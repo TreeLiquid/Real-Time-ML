{
 "cells": [
  {
   "cell_type": "code",
   "execution_count": 99,
   "metadata": {},
   "outputs": [],
   "source": [
    "#Libraries\n",
    "import torch\n",
    "import torch.nn as nn\n",
    "import torch.optim as optim\n",
    "import numpy as np\n",
    "from sklearn.model_selection import train_test_split\n",
    "import time"
   ]
  },
  {
   "cell_type": "code",
   "execution_count": 100,
   "metadata": {},
   "outputs": [
    {
     "name": "stdout",
     "output_type": "stream",
     "text": [
      "Using GPU: NVIDIA GeForce RTX 3060\n"
     ]
    }
   ],
   "source": [
    "#GPU Checking\n",
    "if torch.cuda.is_available():\n",
    "    device = torch.device(\"cuda\")\n",
    "    print(f\"Using GPU: {torch.cuda.get_device_name(0)}\")\n",
    "else:\n",
    "    device = torch.device(\"cpu\")\n",
    "    print(\"GPU is not available. Using CPU.\")"
   ]
  },
  {
   "cell_type": "code",
   "execution_count": 101,
   "metadata": {},
   "outputs": [],
   "source": [
    "# Text Sample\n",
    "text = \"This is a simple example to demonstrate how to predict the next character using GRU in PyTorch.\""
   ]
  },
  {
   "cell_type": "code",
   "execution_count": 102,
   "metadata": {},
   "outputs": [],
   "source": [
    "# **Taken from the course GitHub**\n",
    "\n",
    "#set(text): Creates a set of unique characters found in the text. The set function removes any duplicate characters.\n",
    "#list(set(text)): Converts the set back into a list so that it can be sorted. \n",
    "# sorted(list(set(text))): Sorts the list of unique characters. \n",
    "chars = sorted(list(set(text)))\n",
    "#This line creates a dictionary that maps each character to a unique index (integer).\"\n",
    "ix_to_char = {i: ch for i, ch in enumerate(chars)}\n",
    "#Similar to the previous line, but in reverse. This line creates a dictionary that maps each unique index (integer) back to its corresponding character.\n",
    "char_to_ix = {ch: i for i, ch in enumerate(chars)} \n",
    "chars = sorted(list(set(text)))"
   ]
  },
  {
   "cell_type": "code",
   "execution_count": 103,
   "metadata": {},
   "outputs": [],
   "source": [
    "# Preparing the dataset\n",
    "max_length = 30  # Maximum length of input sequences\n",
    "X = []\n",
    "y = []\n",
    "for i in range(len(text) - max_length):\n",
    "    sequence = text[i:i + max_length]\n",
    "    label = text[i + max_length]\n",
    "    X.append([char_to_ix[char] for char in sequence])\n",
    "    y.append(char_to_ix[label])\n",
    "\n",
    "X = np.array(X)\n",
    "y = np.array(y)"
   ]
  },
  {
   "cell_type": "code",
   "execution_count": 104,
   "metadata": {},
   "outputs": [],
   "source": [
    "# Splitting the dataset \n",
    "X_train, X_val, y_train, y_val = train_test_split(X, y, test_size=0.2, random_state=1)\n",
    "\n",
    "# Converting to tensors\n",
    "X_train = torch.tensor(X_train, dtype=torch.long).to(device)\n",
    "y_train = torch.tensor(y_train, dtype=torch.long).to(device)\n",
    "X_val = torch.tensor(X_val, dtype=torch.long).to(device)\n",
    "y_val = torch.tensor(y_val, dtype=torch.long).to(device)"
   ]
  },
  {
   "cell_type": "code",
   "execution_count": 105,
   "metadata": {},
   "outputs": [],
   "source": [
    "#Training Loop + Empty Arrays for storing Training and Validation Results\n",
    "\n",
    "def TL(n_epochs, optimizer, model, loss_fn, X_train, y_train, X_val, y_val):\n",
    "  for epoch in range(1, n_epochs + 1):\n",
    "    #Training Loop\n",
    "    model.train()\n",
    "    optimizer.zero_grad()\n",
    "    train_out = model(X_train)\n",
    "    loss = loss_fn(train_out, y_train)\n",
    "    loss.backward()\n",
    "    optimizer.step()\n",
    "    \n",
    "    #Validation Loop\n",
    "    model.eval()\n",
    "    with torch.no_grad():\n",
    "      val_out = model(X_val)\n",
    "      val_loss = loss_fn(val_out, y_val)\n",
    "      _, predicted = torch.max(val_out, 1)\n",
    "      val_accuracy = (predicted == y_val).float().mean()\n",
    "    \n",
    "\n",
    "    if epoch == 1 or epoch % 5 == 0: \n",
    "      print('Epoch: {}, Training Loss: {}, Validation Loss: {}, Validation Accuracy: {}'.format(epoch, loss.item(), val_loss.item(), val_accuracy.item()))\n"
   ]
  },
  {
   "cell_type": "markdown",
   "metadata": {},
   "source": [
    "Question 1 - Part C: GRU"
   ]
  },
  {
   "cell_type": "code",
   "execution_count": 106,
   "metadata": {},
   "outputs": [],
   "source": [
    "# GRU Model\n",
    "class GRU(nn.Module):\n",
    "    def __init__(self, input_size, hidden_size, output_size):\n",
    "        super(GRU, self).__init__()\n",
    "        self.hidden_size = hidden_size \n",
    "        self.embedding = nn.Embedding(input_size, hidden_size)\n",
    "        self.gru = nn.GRU(hidden_size, hidden_size, batch_first=True)\n",
    "        self.fc = nn.Linear(hidden_size, output_size)\n",
    "\n",
    "    def forward(self, x):\n",
    "        embedded = self.embedding(x)\n",
    "        output, _ = self.gru(embedded)\n",
    "        output = self.fc(output[:, -1, :])\n",
    "        return output"
   ]
  },
  {
   "cell_type": "code",
   "execution_count": 107,
   "metadata": {},
   "outputs": [
    {
     "name": "stdout",
     "output_type": "stream",
     "text": [
      "Epoch: 1, Training Loss: 3.303229808807373, Validation Loss: 3.2177395820617676, Validation Accuracy: 0.0\n",
      "Epoch: 5, Training Loss: 3.2809367179870605, Validation Loss: 3.2178475856781006, Validation Accuracy: 0.07692307978868484\n",
      "Epoch: 10, Training Loss: 3.2536051273345947, Validation Loss: 3.2180604934692383, Validation Accuracy: 0.07692307978868484\n",
      "Epoch: 15, Training Loss: 3.226814031600952, Validation Loss: 3.2184197902679443, Validation Accuracy: 0.1538461595773697\n",
      "Epoch: 20, Training Loss: 3.2005116939544678, Validation Loss: 3.2188668251037598, Validation Accuracy: 0.07692307978868484\n",
      "Epoch: 25, Training Loss: 3.1746530532836914, Validation Loss: 3.2194149494171143, Validation Accuracy: 0.07692307978868484\n",
      "Epoch: 30, Training Loss: 3.1491963863372803, Validation Loss: 3.2201321125030518, Validation Accuracy: 0.07692307978868484\n"
     ]
    },
    {
     "name": "stdout",
     "output_type": "stream",
     "text": [
      "Epoch: 35, Training Loss: 3.1241071224212646, Validation Loss: 3.2209322452545166, Validation Accuracy: 0.07692307978868484\n",
      "Epoch: 40, Training Loss: 3.0993525981903076, Validation Loss: 3.221818685531616, Validation Accuracy: 0.07692307978868484\n",
      "Epoch: 45, Training Loss: 3.07490873336792, Validation Loss: 3.222860097885132, Validation Accuracy: 0.07692307978868484\n",
      "Epoch: 50, Training Loss: 3.050750732421875, Validation Loss: 3.223994255065918, Validation Accuracy: 0.07692307978868484\n",
      "Epoch: 55, Training Loss: 3.026860475540161, Validation Loss: 3.225290060043335, Validation Accuracy: 0.07692307978868484\n",
      "Epoch: 60, Training Loss: 3.003222942352295, Validation Loss: 3.226684808731079, Validation Accuracy: 0.07692307978868484\n",
      "Epoch: 65, Training Loss: 2.9798266887664795, Validation Loss: 3.228224515914917, Validation Accuracy: 0.07692307978868484\n",
      "Epoch: 70, Training Loss: 2.956662178039551, Validation Loss: 3.2299044132232666, Validation Accuracy: 0.07692307978868484\n",
      "Epoch: 75, Training Loss: 2.9337236881256104, Validation Loss: 3.231714963912964, Validation Accuracy: 0.07692307978868484\n",
      "Epoch: 80, Training Loss: 2.9110090732574463, Validation Loss: 3.233661413192749, Validation Accuracy: 0.07692307978868484\n",
      "Epoch: 85, Training Loss: 2.8885157108306885, Validation Loss: 3.2357497215270996, Validation Accuracy: 0.07692307978868484\n",
      "Epoch: 90, Training Loss: 2.8662455081939697, Validation Loss: 3.237975597381592, Validation Accuracy: 0.07692307978868484\n",
      "Epoch: 95, Training Loss: 2.8442022800445557, Validation Loss: 3.24035382270813, Validation Accuracy: 0.07692307978868484\n",
      "Epoch: 100, Training Loss: 2.822388172149658, Validation Loss: 3.2428441047668457, Validation Accuracy: 0.07692307978868484\n",
      "Epoch: 105, Training Loss: 2.8008100986480713, Validation Loss: 3.2455036640167236, Validation Accuracy: 0.07692307978868484\n",
      "Epoch: 110, Training Loss: 2.7794718742370605, Validation Loss: 3.248260736465454, Validation Accuracy: 0.07692307978868484\n",
      "Epoch: 115, Training Loss: 2.7583796977996826, Validation Loss: 3.2511143684387207, Validation Accuracy: 0.07692307978868484\n",
      "Epoch: 120, Training Loss: 2.7375407218933105, Validation Loss: 3.2541418075561523, Validation Accuracy: 0.07692307978868484\n",
      "Epoch: 125, Training Loss: 2.71695876121521, Validation Loss: 3.2572789192199707, Validation Accuracy: 0.07692307978868484\n",
      "Epoch: 130, Training Loss: 2.6966395378112793, Validation Loss: 3.2604804039001465, Validation Accuracy: 0.07692307978868484\n",
      "Epoch: 135, Training Loss: 2.6765851974487305, Validation Loss: 3.2638049125671387, Validation Accuracy: 0.07692307978868484\n",
      "Epoch: 140, Training Loss: 2.6568002700805664, Validation Loss: 3.267214775085449, Validation Accuracy: 0.07692307978868484\n",
      "Epoch: 145, Training Loss: 2.6372833251953125, Validation Loss: 3.270653009414673, Validation Accuracy: 0.07692307978868484\n",
      "Epoch: 150, Training Loss: 2.6180360317230225, Validation Loss: 3.274162530899048, Validation Accuracy: 0.07692307978868484\n",
      "Epoch: 155, Training Loss: 2.5990564823150635, Validation Loss: 3.277743339538574, Validation Accuracy: 0.07692307978868484\n",
      "Epoch: 160, Training Loss: 2.5803399085998535, Validation Loss: 3.281345844268799, Validation Accuracy: 0.07692307978868484\n",
      "Epoch: 165, Training Loss: 2.5618832111358643, Validation Loss: 3.2849695682525635, Validation Accuracy: 0.07692307978868484\n",
      "Epoch: 170, Training Loss: 2.543680429458618, Validation Loss: 3.2885782718658447, Validation Accuracy: 0.07692307978868484\n",
      "Epoch: 175, Training Loss: 2.5257248878479004, Validation Loss: 3.292208194732666, Validation Accuracy: 0.07692307978868484\n",
      "Epoch: 180, Training Loss: 2.5080080032348633, Validation Loss: 3.2957937717437744, Validation Accuracy: 0.07692307978868484\n",
      "Epoch: 185, Training Loss: 2.490522861480713, Validation Loss: 3.2993557453155518, Validation Accuracy: 0.07692307978868484\n",
      "Epoch: 190, Training Loss: 2.473259925842285, Validation Loss: 3.302910327911377, Validation Accuracy: 0.07692307978868484\n",
      "Epoch: 195, Training Loss: 2.4562089443206787, Validation Loss: 3.306405782699585, Validation Accuracy: 0.07692307978868484\n",
      "Epoch: 200, Training Loss: 2.439361810684204, Validation Loss: 3.309835195541382, Validation Accuracy: 0.07692307978868484\n",
      "Time taken: 0.680593729019165 Seconds\n"
     ]
    }
   ],
   "source": [
    "\n",
    "hidden_size = 128\n",
    "model = GRU(len(chars), hidden_size, len(chars)).to(device)\n",
    "a = 0.01\n",
    "epochs = 200\n",
    "lossFN = nn.CrossEntropyLoss()\n",
    "optimizer = optim.SGD(model.parameters(), lr= a)\n",
    "start_time = time.time()\n",
    "\n",
    "TL(\n",
    "  n_epochs= epochs,\n",
    "  optimizer= optimizer,\n",
    "  model= model,\n",
    "  loss_fn= lossFN,\n",
    "  X_train= X_train,\n",
    "  y_train= y_train,\n",
    "  X_val= X_val,\n",
    "  y_val= y_val\n",
    ")\n",
    "\n",
    "#Getting the time\n",
    "end_time = time.time()\n",
    "elapsed_time = end_time - start_time\n",
    "print(f\"Time taken: {elapsed_time} Seconds\")"
   ]
  },
  {
   "cell_type": "code",
   "execution_count": 108,
   "metadata": {},
   "outputs": [],
   "source": [
    "# Prediction Fn\n",
    "def predict_next_char(model, char_to_ix, ix_to_char, initial_str):\n",
    "    model.eval()\n",
    "    with torch.no_grad():\n",
    "        initial_input = torch.tensor([char_to_ix[c] for c in initial_str[-max_length:]], dtype=torch.long).unsqueeze(0)\n",
    "        prediction = model(initial_input)\n",
    "        predicted_index = torch.argmax(prediction, dim=1).item()\n",
    "        return ix_to_char[predicted_index]"
   ]
  },
  {
   "cell_type": "code",
   "execution_count": 109,
   "metadata": {},
   "outputs": [
    {
     "name": "stdout",
     "output_type": "stream",
     "text": [
      "Model Complexity: 105754\n",
      "Predicted next character: 'e'\n"
     ]
    }
   ],
   "source": [
    "#Complexity\n",
    "numel_list = [p.numel() for p in model.parameters()]\n",
    "print(\"Model Complexity: {}\".format(sum(numel_list)))\n",
    "#sum(numel_list), numel_list\n",
    "\n",
    "model = model.to('cpu')\n",
    "\n",
    "# Predicting the next character\n",
    "test_str = \"This is a simple example to demonstrate how to predict the next char\"\n",
    "predicted_char = predict_next_char(model, char_to_ix, ix_to_char, test_str)\n",
    "print(f\"Predicted next character: '{predicted_char}'\")"
   ]
  }
 ],
 "metadata": {
  "kernelspec": {
   "display_name": "Python 3",
   "language": "python",
   "name": "python3"
  },
  "language_info": {
   "codemirror_mode": {
    "name": "ipython",
    "version": 3
   },
   "file_extension": ".py",
   "mimetype": "text/x-python",
   "name": "python",
   "nbconvert_exporter": "python",
   "pygments_lexer": "ipython3",
   "version": "3.11.8"
  }
 },
 "nbformat": 4,
 "nbformat_minor": 2
}
