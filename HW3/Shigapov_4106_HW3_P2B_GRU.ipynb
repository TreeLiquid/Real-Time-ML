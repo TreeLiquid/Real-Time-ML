{
 "cells": [
  {
   "cell_type": "code",
   "execution_count": 40,
   "metadata": {},
   "outputs": [],
   "source": [
    "# Libraries\n",
    "import torch\n",
    "from torch.utils.data import Dataset, DataLoader\n",
    "import numpy as np\n",
    "import requests\n",
    "import torch.nn as nn\n",
    "import torch.optim as optim\n",
    "import numpy as np\n",
    "from sklearn.model_selection import train_test_split\n",
    "import matplotlib.pyplot as plt\n",
    "import time"
   ]
  },
  {
   "cell_type": "code",
   "execution_count": 41,
   "metadata": {},
   "outputs": [
    {
     "name": "stdout",
     "output_type": "stream",
     "text": [
      "Using GPU: NVIDIA GeForce RTX 3060\n"
     ]
    }
   ],
   "source": [
    "#GPU Checking\n",
    "if torch.cuda.is_available():\n",
    "    device = torch.device(\"cuda\")\n",
    "    print(f\"Using GPU: {torch.cuda.get_device_name(0)}\")\n",
    "else:\n",
    "    device = torch.device(\"cpu\")\n",
    "    print(\"GPU is not available. Using CPU.\")"
   ]
  },
  {
   "cell_type": "code",
   "execution_count": 42,
   "metadata": {},
   "outputs": [],
   "source": [
    "# Grabbed the dataloader from the GitHub\n",
    "\n",
    "# Step 1: Download the dataset\n",
    "url = \"https://raw.githubusercontent.com/karpathy/char-rnn/master/data/tinyshakespeare/input.txt\"\n",
    "response = requests.get(url)\n",
    "text = response.text  # This is the entire text data\n",
    "\n",
    "# Step 2: Prepare the dataset\n",
    "sequence_length = 20\n",
    "# Create a character mapping to integers\n",
    "chars = sorted(list(set(text)))\n",
    "char_to_int = {ch: i for i, ch in enumerate(chars)}\n",
    "int_to_char = {i: ch for i, ch in enumerate(chars)}\n",
    "\n",
    "# Encode the text into integers\n",
    "encoded_text = [char_to_int[ch] for ch in text]\n",
    "\n",
    "# Create sequences and targets\n",
    "sequences = []\n",
    "targets = []\n",
    "for i in range(0, len(encoded_text) - sequence_length):\n",
    "    seq = encoded_text[i:i+sequence_length]\n",
    "    target = encoded_text[i+sequence_length]\n",
    "    sequences.append(seq)\n",
    "    targets.append(target)\n",
    "\n",
    "# Convert lists to PyTorch tensors\n",
    "sequences = torch.tensor(sequences, dtype=torch.long)\n",
    "targets = torch.tensor(targets, dtype=torch.long)\n",
    "\n",
    "# Step 3: Create a dataset class\n",
    "class CharDataset(Dataset):\n",
    "    def __init__(self, sequences, targets):\n",
    "        self.sequences = sequences\n",
    "        self.targets = targets\n",
    "\n",
    "    def __len__(self):\n",
    "        return len(self.sequences)\n",
    "\n",
    "    def __getitem__(self, index):\n",
    "        return self.sequences[index], self.targets[index]\n",
    "\n",
    "# Instantiate the dataset\n",
    "dataset = CharDataset(sequences, targets)\n",
    "\n",
    "# Step 4: Create data loaders\n",
    "batch_size = 128\n",
    "train_size = int(len(dataset) * 0.8)\n",
    "test_size = len(dataset) - train_size\n",
    "train_dataset, test_dataset = torch.utils.data.random_split(dataset, [train_size, test_size])\n",
    "\n",
    "train_loader = DataLoader(train_dataset, shuffle=True, batch_size=batch_size)\n",
    "test_loader = DataLoader(test_dataset, shuffle=False, batch_size=batch_size)"
   ]
  },
  {
   "cell_type": "code",
   "execution_count": 43,
   "metadata": {},
   "outputs": [],
   "source": [
    "#Training Loop + Empty Arrays for storing Training and Validation Results\n",
    "train_loss_list = []\n",
    "val_loss_list = []\n",
    "val_accuracy_list = []\n",
    "all_predicted = []\n",
    "all_labels = []\n",
    "\n",
    "def TL(n_epochs, optimizer, model, loss_fn, training_loader, valid_loader):\n",
    "  for epoch in range(1, n_epochs + 1):\n",
    "    loss_train = 0.0\n",
    "    model.train()\n",
    "    for Stacked_images, labels in training_loader:\n",
    "      Stacked_images = Stacked_images.to(device)\n",
    "      labels = labels.to(device)\n",
    "      outputs = model(Stacked_images)\n",
    "      loss = loss_fn(outputs, labels)\n",
    "      optimizer.zero_grad()\n",
    "      loss.backward()\n",
    "      optimizer.step()\n",
    "      loss_train += loss.item()\n",
    "    train_loss_list.append(loss_train / len(training_loader)) \n",
    "\n",
    "    \n",
    "    #Validation Loop\n",
    "    correct = 0\n",
    "    total = 0\n",
    "    valid_loss = 0.0\n",
    "    model.eval()\n",
    "    with torch.no_grad():\n",
    "      for inputs, labels in valid_loader:\n",
    "          inputs = inputs.to(device)\n",
    "          labels = labels.to(device)\n",
    "          outputs = model(inputs)\n",
    "          loss = loss_fn(outputs, labels)\n",
    "          valid_loss += loss.item()\n",
    "          _, predicted = torch.max(outputs.data, 1)\n",
    "          total += labels.size(0)\n",
    "          correct += (predicted == labels).sum().item()\n",
    "          all_predicted.extend(predicted.cpu().numpy())\n",
    "          all_labels.extend(labels.cpu().numpy())\n",
    "\n",
    "    val_loss_list.append(valid_loss / len(valid_loader))\n",
    "    val_accuracy = correct / total\n",
    "    val_accuracy_list.append(val_accuracy)\n",
    "\n",
    "    if epoch == 1 or epoch % 5 == 0: \n",
    "      print('Epoch: {}, Training Loss: {}, Validation Loss: {}, Validation Acc: {}'.format(epoch, loss_train / len(training_loader), valid_loss / len(valid_loader), val_accuracy))\n"
   ]
  },
  {
   "cell_type": "markdown",
   "metadata": {},
   "source": [
    "Problem 2 - Part B: GRU"
   ]
  },
  {
   "cell_type": "code",
   "execution_count": 44,
   "metadata": {},
   "outputs": [],
   "source": [
    "# GRU Model\n",
    "class GRU(nn.Module):\n",
    "    def __init__(self, input_size, hidden_size, output_size, num_layers):\n",
    "        super(GRU, self).__init__()\n",
    "        self.hidden_size = hidden_size \n",
    "        self.embedding = nn.Embedding(input_size, hidden_size)\n",
    "        self.lstm = nn.GRU(hidden_size, hidden_size, num_layers= num_layers, batch_first=True)\n",
    "        self.fc = nn.Linear(hidden_size, output_size)\n",
    "\n",
    "    def forward(self, x):\n",
    "        embedded = self.embedding(x)\n",
    "        output, _ = self.lstm(embedded)\n",
    "        output = self.fc(output[:, -1, :])\n",
    "        return output"
   ]
  },
  {
   "cell_type": "code",
   "execution_count": 45,
   "metadata": {},
   "outputs": [
    {
     "name": "stdout",
     "output_type": "stream",
     "text": [
      "Epoch: 1, Training Loss: 3.4739046652154273, Validation Loss: 3.265500450845566, Validation Acc: 0.15360304830214053\n",
      "Epoch: 5, Training Loss: 2.9750366854859163, Validation Loss: 2.9308825120526487, Validation Acc: 0.21607979379132577\n",
      "Epoch: 10, Training Loss: 2.554113446366698, Validation Loss: 2.5175977019968214, Validation Acc: 0.2970615263924689\n",
      "Epoch: 15, Training Loss: 2.3317367960787068, Validation Loss: 2.3144550597742928, Validation Acc: 0.34044155553065114\n",
      "Epoch: 20, Training Loss: 2.2152466451513035, Validation Loss: 2.2028079889864327, Validation Acc: 0.3756270312675109\n",
      "Epoch: 25, Training Loss: 2.132115115397153, Validation Loss: 2.1221658817598756, Validation Acc: 0.395378236019276\n",
      "Epoch: 30, Training Loss: 2.0644293675221594, Validation Loss: 2.0569634578450957, Validation Acc: 0.4083738652919422\n",
      "Time taken: 43.71236470937729 Minutes\n"
     ]
    }
   ],
   "source": [
    "hidden_size = 256\n",
    "model = GRU(len(chars), hidden_size, len(chars), 3).to(device)\n",
    "a = 0.001\n",
    "epochs = 30\n",
    "lossFN = nn.CrossEntropyLoss()\n",
    "optimizer = optim.SGD(model.parameters(), lr= a)\n",
    "training_loader = train_loader\n",
    "valid_loader = test_loader\n",
    "start_time = time.time()\n",
    "\n",
    "TL(\n",
    "  n_epochs= epochs,\n",
    "  optimizer= optimizer,\n",
    "  model= model,\n",
    "  loss_fn= lossFN,\n",
    "  training_loader= training_loader,\n",
    "  valid_loader= valid_loader\n",
    ")\n",
    "\n",
    "#Getting the time\n",
    "end_time = time.time()\n",
    "elapsed_time = end_time - start_time\n",
    "print(f\"Time taken: {elapsed_time/60} Minutes\")"
   ]
  },
  {
   "cell_type": "code",
   "execution_count": 46,
   "metadata": {},
   "outputs": [
    {
     "data": {
      "image/png": "[encoded data removed]",
      "text/plain": [
       "<Figure size 640x480 with 1 Axes>"
      ]
     },
     "metadata": {},
     "output_type": "display_data"
    }
   ],
   "source": [
    "# Plotting training and validation loss\n",
    "plt.plot(train_loss_list, label='Training Loss')\n",
    "plt.plot(val_loss_list, label='Validation Loss')\n",
    "plt.xlabel('Epoch')\n",
    "plt.ylabel('Loss')\n",
    "plt.title('Training and Validation Loss')\n",
    "plt.legend()\n",
    "#plt.savefig('temp/LeNet_training_validation_loss.png')\n",
    "plt.show()"
   ]
  },
  {
   "cell_type": "code",
   "execution_count": 47,
   "metadata": {},
   "outputs": [
    {
     "name": "stdout",
     "output_type": "stream",
     "text": [
      "Model Complexity: 1217601\n"
     ]
    }
   ],
   "source": [
    "#Complexity\n",
    "numel_list = [p.numel() for p in model.parameters()]\n",
    "print(\"Model Complexity: {}\".format(sum(numel_list)))\n",
    "#sum(numel_list), numel_list"
   ]
  }
 ],
 "metadata": {
  "kernelspec": {
   "display_name": "Python 3",
   "language": "python",
   "name": "python3"
  },
  "language_info": {
   "codemirror_mode": {
    "name": "ipython",
    "version": 3
   },
   "file_extension": ".py",
   "mimetype": "text/x-python",
   "name": "python",
   "nbconvert_exporter": "python",
   "pygments_lexer": "ipython3",
   "version": "3.11.8"
  }
 },
 "nbformat": 4,
 "nbformat_minor": 2
}
