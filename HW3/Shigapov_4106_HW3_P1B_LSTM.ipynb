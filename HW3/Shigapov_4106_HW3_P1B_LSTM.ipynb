{
 "cells": [
  {
   "cell_type": "code",
   "execution_count": 51,
   "metadata": {},
   "outputs": [],
   "source": [
    "#Libraries\n",
    "import torch\n",
    "import torch.nn as nn\n",
    "import torch.optim as optim\n",
    "import numpy as np\n",
    "from sklearn.model_selection import train_test_split\n",
    "import time"
   ]
  },
  {
   "cell_type": "code",
   "execution_count": 52,
   "metadata": {},
   "outputs": [],
   "source": [
    "# Text Sample\n",
    "text = \"This is a simple example to demonstrate how to predict the next character using RNN in PyTorch.\""
   ]
  },
  {
   "cell_type": "code",
   "execution_count": 53,
   "metadata": {},
   "outputs": [],
   "source": [
    "# **Taken from the course GitHub**\n",
    "\n",
    "#set(text): Creates a set of unique characters found in the text. The set function removes any duplicate characters.\n",
    "#list(set(text)): Converts the set back into a list so that it can be sorted. \n",
    "# sorted(list(set(text))): Sorts the list of unique characters. \n",
    "chars = sorted(list(set(text)))\n",
    "#This line creates a dictionary that maps each character to a unique index (integer).\"\n",
    "ix_to_char = {i: ch for i, ch in enumerate(chars)}\n",
    "#Similar to the previous line, but in reverse. This line creates a dictionary that maps each unique index (integer) back to its corresponding character.\n",
    "char_to_ix = {ch: i for i, ch in enumerate(chars)} \n",
    "chars = sorted(list(set(text)))"
   ]
  },
  {
   "cell_type": "code",
   "execution_count": 54,
   "metadata": {},
   "outputs": [],
   "source": [
    "# Preparing the dataset\n",
    "max_length = 10  # Maximum length of input sequences\n",
    "X = []\n",
    "y = []\n",
    "for i in range(len(text) - max_length):\n",
    "    sequence = text[i:i + max_length]\n",
    "    label = text[i + max_length]\n",
    "    X.append([char_to_ix[char] for char in sequence])\n",
    "    y.append(char_to_ix[label])\n",
    "\n",
    "X = np.array(X)\n",
    "y = np.array(y)"
   ]
  },
  {
   "cell_type": "code",
   "execution_count": 55,
   "metadata": {},
   "outputs": [],
   "source": [
    "# Splitting the dataset \n",
    "X_train, X_val, y_train, y_val = train_test_split(X, y, test_size=0.2, random_state=42)\n",
    "\n",
    "# Converting to tensors\n",
    "X_train = torch.tensor(X_train, dtype=torch.long)#.to(device)\n",
    "y_train = torch.tensor(y_train, dtype=torch.long)#.to(device)\n",
    "X_val = torch.tensor(X_val, dtype=torch.long)#.to(device)\n",
    "y_val = torch.tensor(y_val, dtype=torch.long)#.to(device)"
   ]
  },
  {
   "cell_type": "code",
   "execution_count": 56,
   "metadata": {},
   "outputs": [],
   "source": [
    "#Training Loop + Empty Arrays for storing Training and Validation Results\n",
    "\n",
    "def TL(n_epochs, optimizer, model, loss_fn, X_train, y_train, X_val, y_val):\n",
    "  for epoch in range(1, n_epochs + 1):\n",
    "    #Training Loop\n",
    "    model.train()\n",
    "    optimizer.zero_grad()\n",
    "    train_out = model(X_train)\n",
    "    loss = loss_fn(train_out, y_train)\n",
    "    loss.backward()\n",
    "    optimizer.step()\n",
    "    \n",
    "    #Validation Loop\n",
    "    model.eval()\n",
    "    with torch.no_grad():\n",
    "      val_out = model(X_val)\n",
    "      val_loss = loss_fn(val_out, y_val)\n",
    "      _, predicted = torch.max(val_out, 1)\n",
    "      val_accuracy = (predicted == y_val).float().mean()\n",
    "    \n",
    "\n",
    "    if epoch == 1 or epoch % 5 == 0: \n",
    "      print('Epoch: {}, Training Loss: {}, Validation Loss: {}, Validation Accuracy: {}'.format(epoch, loss.item(), val_loss.item(), val_accuracy.item()))\n"
   ]
  },
  {
   "cell_type": "markdown",
   "metadata": {},
   "source": [
    "Question 1 - Part B: LSTM"
   ]
  },
  {
   "cell_type": "code",
   "execution_count": 57,
   "metadata": {},
   "outputs": [],
   "source": [
    "# LSTM Model\n",
    "class LSTM(nn.Module):\n",
    "    def __init__(self, input_size, hidden_size, output_size):\n",
    "        super(LSTM, self).__init__()\n",
    "        self.hidden_size = hidden_size \n",
    "        self.embedding = nn.Embedding(input_size, hidden_size)\n",
    "        self.lstm = nn.LSTM(hidden_size, hidden_size, batch_first=True)\n",
    "        self.fc = nn.Linear(hidden_size, output_size)\n",
    "\n",
    "    def forward(self, x):\n",
    "        embedded = self.embedding(x)\n",
    "        output, _ = self.lstm(embedded)\n",
    "        output = self.fc(output[:, -1, :])\n",
    "        return output"
   ]
  },
  {
   "cell_type": "code",
   "execution_count": 58,
   "metadata": {},
   "outputs": [
    {
     "name": "stdout",
     "output_type": "stream",
     "text": [
      "Epoch: 1, Training Loss: 3.2315425872802734, Validation Loss: 3.181814432144165, Validation Accuracy: 0.11764705926179886\n",
      "Epoch: 5, Training Loss: 3.225187301635742, Validation Loss: 3.1817421913146973, Validation Accuracy: 0.05882352963089943\n",
      "Epoch: 10, Training Loss: 3.2172932624816895, Validation Loss: 3.181669235229492, Validation Accuracy: 0.05882352963089943\n",
      "Epoch: 15, Training Loss: 3.209451198577881, Validation Loss: 3.181615114212036, Validation Accuracy: 0.0\n",
      "Epoch: 20, Training Loss: 3.201658010482788, Validation Loss: 3.181579351425171, Validation Accuracy: 0.05882352963089943\n",
      "Time taken: 0.1620006561279297 Seconds\n"
     ]
    }
   ],
   "source": [
    "\n",
    "hidden_size = 128\n",
    "model = LSTM(len(chars), hidden_size, len(chars))\n",
    "a = 0.01\n",
    "epochs = 20\n",
    "lossFN = nn.CrossEntropyLoss()\n",
    "optimizer = optim.SGD(model.parameters(), lr= a)\n",
    "start_time = time.time()\n",
    "\n",
    "TL(\n",
    "  n_epochs= epochs,\n",
    "  optimizer= optimizer,\n",
    "  model= model,\n",
    "  loss_fn= lossFN,\n",
    "  X_train= X_train,\n",
    "  y_train= y_train,\n",
    "  X_val= X_val,\n",
    "  y_val= y_val\n",
    ")\n",
    "\n",
    "#Getting the time\n",
    "end_time = time.time()\n",
    "elapsed_time = end_time - start_time\n",
    "print(f\"Time taken: {elapsed_time} Seconds\")"
   ]
  },
  {
   "cell_type": "code",
   "execution_count": 59,
   "metadata": {},
   "outputs": [],
   "source": [
    "# Prediction Fn\n",
    "def predict_next_char(model, char_to_ix, ix_to_char, initial_str):\n",
    "    model.eval()\n",
    "    with torch.no_grad():\n",
    "        initial_input = torch.tensor([char_to_ix[c] for c in initial_str[-max_length:]], dtype=torch.long).unsqueeze(0)\n",
    "        prediction = model(initial_input)\n",
    "        predicted_index = torch.argmax(prediction, dim=1).item()\n",
    "        return ix_to_char[predicted_index]"
   ]
  },
  {
   "cell_type": "code",
   "execution_count": 60,
   "metadata": {},
   "outputs": [
    {
     "name": "stdout",
     "output_type": "stream",
     "text": [
      "Model Complexity: 138521\n"
     ]
    }
   ],
   "source": [
    "#Complexity\n",
    "numel_list = [p.numel() for p in model.parameters()]\n",
    "print(\"Model Complexity: {}\".format(sum(numel_list)))\n",
    "#sum(numel_list), numel_list"
   ]
  },
  {
   "cell_type": "code",
   "execution_count": 61,
   "metadata": {},
   "outputs": [
    {
     "name": "stdout",
     "output_type": "stream",
     "text": [
      "Predicted next character: 'n'\n"
     ]
    }
   ],
   "source": [
    "# Predicting the next character\n",
    "test_str = \"This is a simple example to demonstrate how to predict the next char\"\n",
    "predicted_char = predict_next_char(model, char_to_ix, ix_to_char, test_str)\n",
    "print(f\"Predicted next character: '{predicted_char}'\")"
   ]
  }
 ],
 "metadata": {
  "kernelspec": {
   "display_name": "Python 3",
   "language": "python",
   "name": "python3"
  },
  "language_info": {
   "codemirror_mode": {
    "name": "ipython",
    "version": 3
   },
   "file_extension": ".py",
   "mimetype": "text/x-python",
   "name": "python",
   "nbconvert_exporter": "python",
   "pygments_lexer": "ipython3",
   "version": "3.11.8"
  }
 },
 "nbformat": 4,
 "nbformat_minor": 2
}
