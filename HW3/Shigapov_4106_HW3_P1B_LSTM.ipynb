{
 "cells": [
  {
   "cell_type": "code",
   "execution_count": 681,
   "metadata": {},
   "outputs": [],
   "source": [
    "#Libraries\n",
    "import torch\n",
    "import torch.nn as nn\n",
    "import torch.optim as optim\n",
    "import numpy as np\n",
    "from sklearn.model_selection import train_test_split\n",
    "import time"
   ]
  },
  {
   "cell_type": "code",
   "execution_count": 682,
   "metadata": {},
   "outputs": [
    {
     "name": "stdout",
     "output_type": "stream",
     "text": [
      "Using GPU: NVIDIA GeForce RTX 3060\n"
     ]
    }
   ],
   "source": [
    "#GPU Checking\n",
    "if torch.cuda.is_available():\n",
    "    device = torch.device(\"cuda\")\n",
    "    print(f\"Using GPU: {torch.cuda.get_device_name(0)}\")\n",
    "else:\n",
    "    device = torch.device(\"cpu\")\n",
    "    print(\"GPU is not available. Using CPU.\")"
   ]
  },
  {
   "cell_type": "code",
   "execution_count": 683,
   "metadata": {},
   "outputs": [],
   "source": [
    "# Text Sample\n",
    "text = \"This is a simple example to demonstrate how to predict the next character using LSTM in PyTorch.\""
   ]
  },
  {
   "cell_type": "code",
   "execution_count": 684,
   "metadata": {},
   "outputs": [],
   "source": [
    "# **Taken from the course GitHub**\n",
    "\n",
    "#set(text): Creates a set of unique characters found in the text. The set function removes any duplicate characters.\n",
    "#list(set(text)): Converts the set back into a list so that it can be sorted. \n",
    "# sorted(list(set(text))): Sorts the list of unique characters. \n",
    "chars = sorted(list(set(text)))\n",
    "#This line creates a dictionary that maps each character to a unique index (integer).\"\n",
    "ix_to_char = {i: ch for i, ch in enumerate(chars)}\n",
    "#Similar to the previous line, but in reverse. This line creates a dictionary that maps each unique index (integer) back to its corresponding character.\n",
    "char_to_ix = {ch: i for i, ch in enumerate(chars)} \n",
    "chars = sorted(list(set(text)))"
   ]
  },
  {
   "cell_type": "code",
   "execution_count": 685,
   "metadata": {},
   "outputs": [],
   "source": [
    "# Preparing the dataset\n",
    "max_length = 30  # Maximum length of input sequences\n",
    "X = []\n",
    "y = []\n",
    "for i in range(len(text) - max_length):\n",
    "    sequence = text[i:i + max_length]\n",
    "    label = text[i + max_length]\n",
    "    X.append([char_to_ix[char] for char in sequence])\n",
    "    y.append(char_to_ix[label])\n",
    "\n",
    "X = np.array(X)\n",
    "y = np.array(y)"
   ]
  },
  {
   "cell_type": "code",
   "execution_count": 686,
   "metadata": {},
   "outputs": [],
   "source": [
    "# Splitting the dataset \n",
    "X_train, X_val, y_train, y_val = train_test_split(X, y, test_size=0.2, random_state=1)\n",
    "\n",
    "# Converting to tensors\n",
    "X_train = torch.tensor(X_train, dtype=torch.long).to(device)\n",
    "y_train = torch.tensor(y_train, dtype=torch.long).to(device)\n",
    "X_val = torch.tensor(X_val, dtype=torch.long).to(device)\n",
    "y_val = torch.tensor(y_val, dtype=torch.long).to(device)"
   ]
  },
  {
   "cell_type": "code",
   "execution_count": 687,
   "metadata": {},
   "outputs": [],
   "source": [
    "#Training Loop + Empty Arrays for storing Training and Validation Results\n",
    "\n",
    "def TL(n_epochs, optimizer, model, loss_fn, X_train, y_train, X_val, y_val):\n",
    "  for epoch in range(1, n_epochs + 1):\n",
    "    #Training Loop\n",
    "    model.train()\n",
    "    optimizer.zero_grad()\n",
    "    train_out = model(X_train)\n",
    "    loss = loss_fn(train_out, y_train)\n",
    "    loss.backward()\n",
    "    optimizer.step()\n",
    "    \n",
    "    #Validation Loop\n",
    "    model.eval()\n",
    "    with torch.no_grad():\n",
    "      val_out = model(X_val)\n",
    "      val_loss = loss_fn(val_out, y_val)\n",
    "      _, predicted = torch.max(val_out, 1)\n",
    "      val_accuracy = (predicted == y_val).float().mean()\n",
    "    \n",
    "\n",
    "    if epoch == 1 or epoch % 5 == 0: \n",
    "      print('Epoch: {}, Training Loss: {}, Validation Loss: {}, Validation Accuracy: {}'.format(epoch, loss.item(), val_loss.item(), val_accuracy.item()))\n"
   ]
  },
  {
   "cell_type": "markdown",
   "metadata": {},
   "source": [
    "Question 1 - Part B: LSTM"
   ]
  },
  {
   "cell_type": "code",
   "execution_count": 688,
   "metadata": {},
   "outputs": [],
   "source": [
    "# LSTM Model\n",
    "class LSTM(nn.Module):\n",
    "    def __init__(self, input_size, hidden_size, output_size, num_layers):\n",
    "        super(LSTM, self).__init__()\n",
    "        self.hidden_size = hidden_size \n",
    "        self.embedding = nn.Embedding(input_size, hidden_size)\n",
    "        self.lstm = nn.LSTM(hidden_size, hidden_size, num_layers= num_layers, batch_first=True)\n",
    "        self.fc = nn.Linear(hidden_size, output_size)\n",
    "\n",
    "    def forward(self, x):\n",
    "        embedded = self.embedding(x)\n",
    "        output, _ = self.lstm(embedded)\n",
    "        output = self.fc(output[:, -1, :])\n",
    "        return output"
   ]
  },
  {
   "cell_type": "code",
   "execution_count": 689,
   "metadata": {},
   "outputs": [
    {
     "name": "stdout",
     "output_type": "stream",
     "text": [
      "Epoch: 1, Training Loss: 3.2543416023254395, Validation Loss: 3.22796893119812, Validation Accuracy: 0.2142857313156128\n",
      "Epoch: 5, Training Loss: 3.254322052001953, Validation Loss: 3.227958917617798, Validation Accuracy: 0.2142857313156128\n",
      "Epoch: 10, Training Loss: 3.2542991638183594, Validation Loss: 3.22794771194458, Validation Accuracy: 0.2142857313156128\n",
      "Epoch: 15, Training Loss: 3.254274845123291, Validation Loss: 3.227935552597046, Validation Accuracy: 0.2142857313156128\n",
      "Epoch: 20, Training Loss: 3.25425124168396, Validation Loss: 3.227924108505249, Validation Accuracy: 0.2142857313156128\n",
      "Epoch: 25, Training Loss: 3.254228353500366, Validation Loss: 3.227912425994873, Validation Accuracy: 0.2142857313156128\n",
      "Epoch: 30, Training Loss: 3.2542049884796143, Validation Loss: 3.227900743484497, Validation Accuracy: 0.2142857313156128\n",
      "Epoch: 35, Training Loss: 3.254181146621704, Validation Loss: 3.2278895378112793, Validation Accuracy: 0.2142857313156128\n",
      "Epoch: 40, Training Loss: 3.2541580200195312, Validation Loss: 3.227877378463745, Validation Accuracy: 0.2142857313156128\n",
      "Epoch: 45, Training Loss: 3.254133939743042, Validation Loss: 3.2278666496276855, Validation Accuracy: 0.2142857313156128\n"
     ]
    },
    {
     "name": "stdout",
     "output_type": "stream",
     "text": [
      "Epoch: 50, Training Loss: 3.2541098594665527, Validation Loss: 3.2278542518615723, Validation Accuracy: 0.2142857313156128\n",
      "Epoch: 55, Training Loss: 3.254087209701538, Validation Loss: 3.2278430461883545, Validation Accuracy: 0.2142857313156128\n",
      "Epoch: 60, Training Loss: 3.254063844680786, Validation Loss: 3.2278313636779785, Validation Accuracy: 0.2142857313156128\n",
      "Epoch: 65, Training Loss: 3.254040002822876, Validation Loss: 3.2278189659118652, Validation Accuracy: 0.2142857313156128\n",
      "Epoch: 70, Training Loss: 3.2540159225463867, Validation Loss: 3.2278077602386475, Validation Accuracy: 0.2142857313156128\n",
      "Epoch: 75, Training Loss: 3.2539925575256348, Validation Loss: 3.2277958393096924, Validation Accuracy: 0.2142857313156128\n",
      "Epoch: 80, Training Loss: 3.2539687156677246, Validation Loss: 3.2277839183807373, Validation Accuracy: 0.2142857313156128\n",
      "Epoch: 85, Training Loss: 3.253945827484131, Validation Loss: 3.2277729511260986, Validation Accuracy: 0.2142857313156128\n",
      "Epoch: 90, Training Loss: 3.2539217472076416, Validation Loss: 3.2277610301971436, Validation Accuracy: 0.2142857313156128\n",
      "Epoch: 95, Training Loss: 3.2538976669311523, Validation Loss: 3.2277491092681885, Validation Accuracy: 0.2142857313156128\n",
      "Epoch: 100, Training Loss: 3.2538743019104004, Validation Loss: 3.2277374267578125, Validation Accuracy: 0.2142857313156128\n",
      "Epoch: 105, Training Loss: 3.253850221633911, Validation Loss: 3.2277259826660156, Validation Accuracy: 0.2142857313156128\n",
      "Epoch: 110, Training Loss: 3.2538273334503174, Validation Loss: 3.2277138233184814, Validation Accuracy: 0.2142857313156128\n",
      "Epoch: 115, Training Loss: 3.2538042068481445, Validation Loss: 3.227703094482422, Validation Accuracy: 0.2142857313156128\n",
      "Epoch: 120, Training Loss: 3.2537801265716553, Validation Loss: 3.227691173553467, Validation Accuracy: 0.2142857313156128\n",
      "Epoch: 125, Training Loss: 3.253756046295166, Validation Loss: 3.227679967880249, Validation Accuracy: 0.2142857313156128\n",
      "Epoch: 130, Training Loss: 3.2537331581115723, Validation Loss: 3.227668285369873, Validation Accuracy: 0.2142857313156128\n",
      "Epoch: 135, Training Loss: 3.253709077835083, Validation Loss: 3.227656841278076, Validation Accuracy: 0.2142857313156128\n",
      "Epoch: 140, Training Loss: 3.2536861896514893, Validation Loss: 3.227644681930542, Validation Accuracy: 0.2142857313156128\n",
      "Epoch: 145, Training Loss: 3.253662347793579, Validation Loss: 3.227632761001587, Validation Accuracy: 0.2142857313156128\n",
      "Epoch: 150, Training Loss: 3.253638744354248, Validation Loss: 3.22762131690979, Validation Accuracy: 0.2142857313156128\n",
      "Epoch: 155, Training Loss: 3.253615140914917, Validation Loss: 3.227609872817993, Validation Accuracy: 0.2142857313156128\n",
      "Epoch: 160, Training Loss: 3.2535910606384277, Validation Loss: 3.227598190307617, Validation Accuracy: 0.2142857313156128\n",
      "Epoch: 165, Training Loss: 3.253568410873413, Validation Loss: 3.227586507797241, Validation Accuracy: 0.2142857313156128\n",
      "Epoch: 170, Training Loss: 3.253544807434082, Validation Loss: 3.2275750637054443, Validation Accuracy: 0.2142857313156128\n",
      "Epoch: 175, Training Loss: 3.2535204887390137, Validation Loss: 3.2275631427764893, Validation Accuracy: 0.2142857313156128\n",
      "Epoch: 180, Training Loss: 3.25349760055542, Validation Loss: 3.227550745010376, Validation Accuracy: 0.2142857313156128\n",
      "Epoch: 185, Training Loss: 3.2534735202789307, Validation Loss: 3.227539300918579, Validation Accuracy: 0.2142857313156128\n",
      "Epoch: 190, Training Loss: 3.2534501552581787, Validation Loss: 3.2275278568267822, Validation Accuracy: 0.2142857313156128\n",
      "Epoch: 195, Training Loss: 3.2534265518188477, Validation Loss: 3.2275161743164062, Validation Accuracy: 0.2142857313156128\n",
      "Epoch: 200, Training Loss: 3.2534029483795166, Validation Loss: 3.227504253387451, Validation Accuracy: 0.2142857313156128\n",
      "Time taken: 1.5828604698181152 Seconds\n"
     ]
    }
   ],
   "source": [
    "hidden_size = 128\n",
    "model = LSTM(len(chars), hidden_size, len(chars), 4).to(device)\n",
    "a = 0.0001\n",
    "epochs = 200\n",
    "lossFN = nn.CrossEntropyLoss()\n",
    "optimizer = optim.SGD(model.parameters(), lr= a)\n",
    "start_time = time.time()\n",
    "\n",
    "TL(\n",
    "  n_epochs= epochs,\n",
    "  optimizer= optimizer,\n",
    "  model= model,\n",
    "  loss_fn= lossFN,\n",
    "  X_train= X_train,\n",
    "  y_train= y_train,\n",
    "  X_val= X_val,\n",
    "  y_val= y_val\n",
    ")\n",
    "\n",
    "#Getting the time\n",
    "end_time = time.time()\n",
    "elapsed_time = end_time - start_time\n",
    "print(f\"Time taken: {elapsed_time} Seconds\")"
   ]
  },
  {
   "cell_type": "code",
   "execution_count": 690,
   "metadata": {},
   "outputs": [],
   "source": [
    "# Prediction Fn\n",
    "def predict_next_char(model, char_to_ix, ix_to_char, initial_str):\n",
    "    model.eval()\n",
    "    with torch.no_grad():\n",
    "        initial_input = torch.tensor([char_to_ix[c] for c in initial_str[-max_length:]], dtype=torch.long).unsqueeze(0)\n",
    "        prediction = model(initial_input)\n",
    "        predicted_index = torch.argmax(prediction, dim=1).item()\n",
    "        return ix_to_char[predicted_index]"
   ]
  },
  {
   "cell_type": "code",
   "execution_count": 691,
   "metadata": {},
   "outputs": [
    {
     "name": "stdout",
     "output_type": "stream",
     "text": [
      "Model Complexity: 535066\n",
      "Predicted next character: 'i'\n"
     ]
    }
   ],
   "source": [
    "#Complexity\n",
    "numel_list = [p.numel() for p in model.parameters()]\n",
    "print(\"Model Complexity: {}\".format(sum(numel_list)))\n",
    "#sum(numel_list), numel_list\n",
    "\n",
    "model = model.to('cpu')\n",
    "\n",
    "# Predicting the next character\n",
    "test_str = \"This is a simple example to demonstrate how to predict the next char\"\n",
    "predicted_char = predict_next_char(model, char_to_ix, ix_to_char, test_str)\n",
    "print(f\"Predicted next character: '{predicted_char}'\")"
   ]
  }
 ],
 "metadata": {
  "kernelspec": {
   "display_name": "Python 3",
   "language": "python",
   "name": "python3"
  },
  "language_info": {
   "codemirror_mode": {
    "name": "ipython",
    "version": 3
   },
   "file_extension": ".py",
   "mimetype": "text/x-python",
   "name": "python",
   "nbconvert_exporter": "python",
   "pygments_lexer": "ipython3",
   "version": "3.11.8"
  }
 },
 "nbformat": 4,
 "nbformat_minor": 2
}
