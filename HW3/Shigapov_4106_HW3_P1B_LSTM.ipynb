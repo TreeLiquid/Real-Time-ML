{
 "cells": [
  {
   "cell_type": "code",
   "execution_count": 628,
   "metadata": {},
   "outputs": [],
   "source": [
    "#Libraries\n",
    "import torch\n",
    "import torch.nn as nn\n",
    "import torch.optim as optim\n",
    "import numpy as np\n",
    "from sklearn.model_selection import train_test_split\n",
    "import time"
   ]
  },
  {
   "cell_type": "code",
   "execution_count": 629,
   "metadata": {},
   "outputs": [
    {
     "name": "stdout",
     "output_type": "stream",
     "text": [
      "Using GPU: NVIDIA GeForce RTX 3060\n"
     ]
    }
   ],
   "source": [
    "#GPU Checking\n",
    "if torch.cuda.is_available():\n",
    "    device = torch.device(\"cuda\")\n",
    "    print(f\"Using GPU: {torch.cuda.get_device_name(0)}\")\n",
    "else:\n",
    "    device = torch.device(\"cpu\")\n",
    "    print(\"GPU is not available. Using CPU.\")"
   ]
  },
  {
   "cell_type": "code",
   "execution_count": 630,
   "metadata": {},
   "outputs": [],
   "source": [
    "# Text Sample\n",
    "text = \"This is a simple example to demonstrate how to predict the next character using LSTM in PyTorch.\""
   ]
  },
  {
   "cell_type": "code",
   "execution_count": 631,
   "metadata": {},
   "outputs": [],
   "source": [
    "# **Taken from the course GitHub**\n",
    "\n",
    "#set(text): Creates a set of unique characters found in the text. The set function removes any duplicate characters.\n",
    "#list(set(text)): Converts the set back into a list so that it can be sorted. \n",
    "# sorted(list(set(text))): Sorts the list of unique characters. \n",
    "chars = sorted(list(set(text)))\n",
    "#This line creates a dictionary that maps each character to a unique index (integer).\"\n",
    "ix_to_char = {i: ch for i, ch in enumerate(chars)}\n",
    "#Similar to the previous line, but in reverse. This line creates a dictionary that maps each unique index (integer) back to its corresponding character.\n",
    "char_to_ix = {ch: i for i, ch in enumerate(chars)} \n",
    "chars = sorted(list(set(text)))"
   ]
  },
  {
   "cell_type": "code",
   "execution_count": 632,
   "metadata": {},
   "outputs": [],
   "source": [
    "# Preparing the dataset\n",
    "max_length = 70  # Maximum length of input sequences\n",
    "X = []\n",
    "y = []\n",
    "for i in range(len(text) - max_length):\n",
    "    sequence = text[i:i + max_length]\n",
    "    label = text[i + max_length]\n",
    "    X.append([char_to_ix[char] for char in sequence])\n",
    "    y.append(char_to_ix[label])\n",
    "\n",
    "X = np.array(X)\n",
    "y = np.array(y)"
   ]
  },
  {
   "cell_type": "code",
   "execution_count": 633,
   "metadata": {},
   "outputs": [],
   "source": [
    "# Splitting the dataset \n",
    "X_train, X_val, y_train, y_val = train_test_split(X, y, test_size=0.2, random_state=1)\n",
    "\n",
    "# Converting to tensors\n",
    "X_train = torch.tensor(X_train, dtype=torch.long).to(device)\n",
    "y_train = torch.tensor(y_train, dtype=torch.long).to(device)\n",
    "X_val = torch.tensor(X_val, dtype=torch.long).to(device)\n",
    "y_val = torch.tensor(y_val, dtype=torch.long).to(device)"
   ]
  },
  {
   "cell_type": "code",
   "execution_count": 634,
   "metadata": {},
   "outputs": [],
   "source": [
    "#Training Loop + Empty Arrays for storing Training and Validation Results\n",
    "\n",
    "def TL(n_epochs, optimizer, model, loss_fn, X_train, y_train, X_val, y_val):\n",
    "  for epoch in range(1, n_epochs + 1):\n",
    "    #Training Loop\n",
    "    model.train()\n",
    "    optimizer.zero_grad()\n",
    "    train_out = model(X_train)\n",
    "    loss = loss_fn(train_out, y_train)\n",
    "    loss.backward()\n",
    "    optimizer.step()\n",
    "    \n",
    "    #Validation Loop\n",
    "    model.eval()\n",
    "    with torch.no_grad():\n",
    "      val_out = model(X_val)\n",
    "      val_loss = loss_fn(val_out, y_val)\n",
    "      _, predicted = torch.max(val_out, 1)\n",
    "      val_accuracy = (predicted == y_val).float().mean()\n",
    "    \n",
    "\n",
    "    if epoch == 1 or epoch % 5 == 0: \n",
    "      print('Epoch: {}, Training Loss: {}, Validation Loss: {}, Validation Accuracy: {}'.format(epoch, loss.item(), val_loss.item(), val_accuracy.item()))\n"
   ]
  },
  {
   "cell_type": "markdown",
   "metadata": {},
   "source": [
    "Question 1 - Part B: LSTM"
   ]
  },
  {
   "cell_type": "code",
   "execution_count": 635,
   "metadata": {},
   "outputs": [],
   "source": [
    "# LSTM Model\n",
    "class LSTM(nn.Module):\n",
    "    def __init__(self, input_size, hidden_size, output_size, num_layers):\n",
    "        super(LSTM, self).__init__()\n",
    "        self.hidden_size = hidden_size \n",
    "        self.embedding = nn.Embedding(input_size, hidden_size)\n",
    "        self.lstm = nn.LSTM(hidden_size, hidden_size, num_layers= num_layers, batch_first=True)\n",
    "        self.fc = nn.Linear(hidden_size, output_size)\n",
    "\n",
    "    def forward(self, x):\n",
    "        embedded = self.embedding(x)\n",
    "        output, _ = self.lstm(embedded)\n",
    "        output = self.fc(output[:, -1, :])\n",
    "        return output"
   ]
  },
  {
   "cell_type": "code",
   "execution_count": 636,
   "metadata": {},
   "outputs": [
    {
     "name": "stdout",
     "output_type": "stream",
     "text": [
      "Epoch: 1, Training Loss: 3.2488675117492676, Validation Loss: 3.2519102096557617, Validation Accuracy: 0.0\n",
      "Epoch: 5, Training Loss: 3.248842716217041, Validation Loss: 3.251910448074341, Validation Accuracy: 0.0\n",
      "Epoch: 10, Training Loss: 3.248811721801758, Validation Loss: 3.251911163330078, Validation Accuracy: 0.0\n",
      "Epoch: 15, Training Loss: 3.2487804889678955, Validation Loss: 3.251912832260132, Validation Accuracy: 0.0\n",
      "Epoch: 20, Training Loss: 3.2487494945526123, Validation Loss: 3.251915216445923, Validation Accuracy: 0.0\n",
      "Epoch: 25, Training Loss: 3.248718738555908, Validation Loss: 3.2519168853759766, Validation Accuracy: 0.0\n",
      "Epoch: 30, Training Loss: 3.248688220977783, Validation Loss: 3.251918077468872, Validation Accuracy: 0.0\n",
      "Epoch: 35, Training Loss: 3.2486579418182373, Validation Loss: 3.251919984817505, Validation Accuracy: 0.0\n",
      "Epoch: 40, Training Loss: 3.248627185821533, Validation Loss: 3.251922607421875, Validation Accuracy: 0.0\n",
      "Epoch: 45, Training Loss: 3.2485949993133545, Validation Loss: 3.2519237995147705, Validation Accuracy: 0.0\n",
      "Epoch: 50, Training Loss: 3.248565196990967, Validation Loss: 3.251925468444824, Validation Accuracy: 0.0\n",
      "Epoch: 55, Training Loss: 3.2485339641571045, Validation Loss: 3.2519257068634033, Validation Accuracy: 0.0\n",
      "Epoch: 60, Training Loss: 3.2485039234161377, Validation Loss: 3.2519266605377197, Validation Accuracy: 0.0\n"
     ]
    },
    {
     "name": "stdout",
     "output_type": "stream",
     "text": [
      "Epoch: 65, Training Loss: 3.2484729290008545, Validation Loss: 3.251927375793457, Validation Accuracy: 0.0\n",
      "Epoch: 70, Training Loss: 3.248441219329834, Validation Loss: 3.2519280910491943, Validation Accuracy: 0.0\n",
      "Epoch: 75, Training Loss: 3.248410701751709, Validation Loss: 3.2519290447235107, Validation Accuracy: 0.0\n",
      "Epoch: 80, Training Loss: 3.248379945755005, Validation Loss: 3.2519302368164062, Validation Accuracy: 0.0\n",
      "Epoch: 85, Training Loss: 3.2483506202697754, Validation Loss: 3.2519311904907227, Validation Accuracy: 0.0\n",
      "Epoch: 90, Training Loss: 3.248319625854492, Validation Loss: 3.251932382583618, Validation Accuracy: 0.0\n",
      "Epoch: 95, Training Loss: 3.2482879161834717, Validation Loss: 3.2519328594207764, Validation Accuracy: 0.0\n",
      "Epoch: 100, Training Loss: 3.2482573986053467, Validation Loss: 3.2519352436065674, Validation Accuracy: 0.0\n",
      "Epoch: 105, Training Loss: 3.2482268810272217, Validation Loss: 3.251936197280884, Validation Accuracy: 0.0\n",
      "Epoch: 110, Training Loss: 3.2481961250305176, Validation Loss: 3.2519376277923584, Validation Accuracy: 0.0\n",
      "Epoch: 115, Training Loss: 3.24816632270813, Validation Loss: 3.2519397735595703, Validation Accuracy: 0.0\n",
      "Epoch: 120, Training Loss: 3.2481353282928467, Validation Loss: 3.2519404888153076, Validation Accuracy: 0.0\n",
      "Epoch: 125, Training Loss: 3.248102903366089, Validation Loss: 3.251941680908203, Validation Accuracy: 0.0\n",
      "Epoch: 130, Training Loss: 3.248072862625122, Validation Loss: 3.251943826675415, Validation Accuracy: 0.0\n",
      "Epoch: 135, Training Loss: 3.2480416297912598, Validation Loss: 3.251943826675415, Validation Accuracy: 0.0\n",
      "Epoch: 140, Training Loss: 3.248009443283081, Validation Loss: 3.2519454956054688, Validation Accuracy: 0.0\n",
      "Epoch: 145, Training Loss: 3.2479777336120605, Validation Loss: 3.2519466876983643, Validation Accuracy: 0.0\n",
      "Epoch: 150, Training Loss: 3.2479469776153564, Validation Loss: 3.2519500255584717, Validation Accuracy: 0.0\n",
      "Epoch: 155, Training Loss: 3.2479164600372314, Validation Loss: 3.2519500255584717, Validation Accuracy: 0.0\n",
      "Epoch: 160, Training Loss: 3.2478866577148438, Validation Loss: 3.2519524097442627, Validation Accuracy: 0.0\n",
      "Epoch: 165, Training Loss: 3.2478556632995605, Validation Loss: 3.251952886581421, Validation Accuracy: 0.0\n",
      "Epoch: 170, Training Loss: 3.247826337814331, Validation Loss: 3.2519540786743164, Validation Accuracy: 0.0\n",
      "Epoch: 175, Training Loss: 3.2477965354919434, Validation Loss: 3.2519547939300537, Validation Accuracy: 0.0\n",
      "Epoch: 180, Training Loss: 3.2477664947509766, Validation Loss: 3.251955270767212, Validation Accuracy: 0.0\n",
      "Epoch: 185, Training Loss: 3.247737169265747, Validation Loss: 3.25195574760437, Validation Accuracy: 0.0\n",
      "Epoch: 190, Training Loss: 3.247706651687622, Validation Loss: 3.2519569396972656, Validation Accuracy: 0.0\n",
      "Epoch: 195, Training Loss: 3.2476742267608643, Validation Loss: 3.2519569396972656, Validation Accuracy: 0.0\n",
      "Epoch: 200, Training Loss: 3.247642993927002, Validation Loss: 3.2519595623016357, Validation Accuracy: 0.0\n",
      "Time taken: 0.686983585357666 Seconds\n"
     ]
    }
   ],
   "source": [
    "hidden_size = 128\n",
    "model = LSTM(len(chars), hidden_size, len(chars), 2).to(device)\n",
    "a = 0.0001\n",
    "epochs = 200\n",
    "lossFN = nn.CrossEntropyLoss()\n",
    "optimizer = optim.SGD(model.parameters(), lr= a)\n",
    "start_time = time.time()\n",
    "\n",
    "TL(\n",
    "  n_epochs= epochs,\n",
    "  optimizer= optimizer,\n",
    "  model= model,\n",
    "  loss_fn= lossFN,\n",
    "  X_train= X_train,\n",
    "  y_train= y_train,\n",
    "  X_val= X_val,\n",
    "  y_val= y_val\n",
    ")\n",
    "\n",
    "#Getting the time\n",
    "end_time = time.time()\n",
    "elapsed_time = end_time - start_time\n",
    "print(f\"Time taken: {elapsed_time} Seconds\")"
   ]
  },
  {
   "cell_type": "code",
   "execution_count": 637,
   "metadata": {},
   "outputs": [],
   "source": [
    "# Prediction Fn\n",
    "def predict_next_char(model, char_to_ix, ix_to_char, initial_str):\n",
    "    model.eval()\n",
    "    with torch.no_grad():\n",
    "        initial_input = torch.tensor([char_to_ix[c] for c in initial_str[-max_length:]], dtype=torch.long).unsqueeze(0)\n",
    "        prediction = model(initial_input)\n",
    "        predicted_index = torch.argmax(prediction, dim=1).item()\n",
    "        return ix_to_char[predicted_index]"
   ]
  },
  {
   "cell_type": "code",
   "execution_count": 638,
   "metadata": {},
   "outputs": [
    {
     "name": "stdout",
     "output_type": "stream",
     "text": [
      "Model Complexity: 270874\n",
      "Predicted next character: 'S'\n"
     ]
    }
   ],
   "source": [
    "#Complexity\n",
    "numel_list = [p.numel() for p in model.parameters()]\n",
    "print(\"Model Complexity: {}\".format(sum(numel_list)))\n",
    "#sum(numel_list), numel_list\n",
    "\n",
    "model = model.to('cpu')\n",
    "\n",
    "# Predicting the next character\n",
    "test_str = \"This is a simple example to demonstrate how to predict the next char\"\n",
    "predicted_char = predict_next_char(model, char_to_ix, ix_to_char, test_str)\n",
    "print(f\"Predicted next character: '{predicted_char}'\")"
   ]
  }
 ],
 "metadata": {
  "kernelspec": {
   "display_name": "Python 3",
   "language": "python",
   "name": "python3"
  },
  "language_info": {
   "codemirror_mode": {
    "name": "ipython",
    "version": 3
   },
   "file_extension": ".py",
   "mimetype": "text/x-python",
   "name": "python",
   "nbconvert_exporter": "python",
   "pygments_lexer": "ipython3",
   "version": "3.11.8"
  }
 },
 "nbformat": 4,
 "nbformat_minor": 2
}
