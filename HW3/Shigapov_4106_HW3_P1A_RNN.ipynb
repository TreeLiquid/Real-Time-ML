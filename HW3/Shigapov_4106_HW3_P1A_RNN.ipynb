{
 "cells": [
  {
   "cell_type": "code",
   "execution_count": 334,
   "metadata": {},
   "outputs": [],
   "source": [
    "#Libraries\n",
    "import torch\n",
    "import torch.nn as nn\n",
    "import torch.optim as optim\n",
    "import numpy as np\n",
    "from sklearn.model_selection import train_test_split\n",
    "import time"
   ]
  },
  {
   "cell_type": "code",
   "execution_count": 335,
   "metadata": {},
   "outputs": [
    {
     "name": "stdout",
     "output_type": "stream",
     "text": [
      "Using GPU: NVIDIA GeForce RTX 3060\n"
     ]
    }
   ],
   "source": [
    "#GPU Checking\n",
    "if torch.cuda.is_available():\n",
    "    device = torch.device(\"cuda\")\n",
    "    print(f\"Using GPU: {torch.cuda.get_device_name(0)}\")\n",
    "else:\n",
    "    device = torch.device(\"cpu\")\n",
    "    print(\"GPU is not available. Using CPU.\")"
   ]
  },
  {
   "cell_type": "code",
   "execution_count": 336,
   "metadata": {},
   "outputs": [],
   "source": [
    "# Text Sample\n",
    "text = \"This is a simple example to demonstrate how to predict the next character using RNN in PyTorch.\""
   ]
  },
  {
   "cell_type": "code",
   "execution_count": 337,
   "metadata": {},
   "outputs": [],
   "source": [
    "# **Taken from the course GitHub**\n",
    "\n",
    "#set(text): Creates a set of unique characters found in the text. The set function removes any duplicate characters.\n",
    "#list(set(text)): Converts the set back into a list so that it can be sorted. \n",
    "# sorted(list(set(text))): Sorts the list of unique characters. \n",
    "chars = sorted(list(set(text)))\n",
    "#This line creates a dictionary that maps each character to a unique index (integer).\"\n",
    "ix_to_char = {i: ch for i, ch in enumerate(chars)}\n",
    "#Similar to the previous line, but in reverse. This line creates a dictionary that maps each unique index (integer) back to its corresponding character.\n",
    "char_to_ix = {ch: i for i, ch in enumerate(chars)} \n",
    "chars = sorted(list(set(text)))"
   ]
  },
  {
   "cell_type": "code",
   "execution_count": 338,
   "metadata": {},
   "outputs": [],
   "source": [
    "# Preparing the dataset\n",
    "max_length = 30  # Maximum length of input sequences\n",
    "X = []\n",
    "y = []\n",
    "for i in range(len(text) - max_length):\n",
    "    sequence = text[i:i + max_length]\n",
    "    label = text[i + max_length]\n",
    "    X.append([char_to_ix[char] for char in sequence])\n",
    "    y.append(char_to_ix[label])\n",
    "\n",
    "X = np.array(X)\n",
    "y = np.array(y)"
   ]
  },
  {
   "cell_type": "code",
   "execution_count": 339,
   "metadata": {},
   "outputs": [],
   "source": [
    "# Splitting the dataset \n",
    "X_train, X_val, y_train, y_val = train_test_split(X, y, test_size=0.2, random_state=1)\n",
    "\n",
    "# Converting to tensors\n",
    "X_train = torch.tensor(X_train, dtype=torch.long).to(device)\n",
    "y_train = torch.tensor(y_train, dtype=torch.long).to(device)\n",
    "X_val = torch.tensor(X_val, dtype=torch.long).to(device)\n",
    "y_val = torch.tensor(y_val, dtype=torch.long).to(device)"
   ]
  },
  {
   "cell_type": "code",
   "execution_count": 340,
   "metadata": {},
   "outputs": [],
   "source": [
    "#Training Loop + Empty Arrays for storing Training and Validation Results\n",
    "\n",
    "def TL(n_epochs, optimizer, model, loss_fn, X_train, y_train, X_val, y_val):\n",
    "  for epoch in range(1, n_epochs + 1):\n",
    "    #Training Loop\n",
    "    model.train()\n",
    "    optimizer.zero_grad()\n",
    "    train_out = model(X_train)\n",
    "    loss = loss_fn(train_out, y_train)\n",
    "    loss.backward()\n",
    "    optimizer.step()\n",
    "    \n",
    "    #Validation Loop\n",
    "    model.eval()\n",
    "    with torch.no_grad():\n",
    "      val_out = model(X_val)\n",
    "      val_loss = loss_fn(val_out, y_val)\n",
    "      _, predicted = torch.max(val_out, 1)\n",
    "      val_accuracy = (predicted == y_val).float().mean()\n",
    "    \n",
    "\n",
    "    if epoch == 1 or epoch % 5 == 0: \n",
    "      print('Epoch: {}, Training Loss: {}, Validation Loss: {}, Validation Accuracy: {}'.format(epoch, loss.item(), val_loss.item(), val_accuracy.item()))\n"
   ]
  },
  {
   "cell_type": "markdown",
   "metadata": {},
   "source": [
    "Question 1 - Part A: RNN"
   ]
  },
  {
   "cell_type": "code",
   "execution_count": 341,
   "metadata": {},
   "outputs": [],
   "source": [
    "# RNN Model\n",
    "class RNN(nn.Module):\n",
    "    def __init__(self, input_size, hidden_size, output_size):\n",
    "        super(RNN, self).__init__()\n",
    "        self.hidden_size = hidden_size \n",
    "        self.embedding = nn.Embedding(input_size, hidden_size)\n",
    "        self.rnn = nn.RNN(hidden_size, hidden_size, batch_first=True)\n",
    "        self.fc = nn.Linear(hidden_size, output_size)\n",
    "\n",
    "    def forward(self, x):\n",
    "        embedded = self.embedding(x)\n",
    "        output, _ = self.rnn(embedded)\n",
    "        output = self.fc(output[:, -1, :])  # Get the output of the last RNN cell\n",
    "        return output"
   ]
  },
  {
   "cell_type": "code",
   "execution_count": 342,
   "metadata": {},
   "outputs": [
    {
     "name": "stdout",
     "output_type": "stream",
     "text": [
      "Epoch: 1, Training Loss: 3.2679808139801025, Validation Loss: 3.334357976913452, Validation Accuracy: 0.0\n",
      "Epoch: 5, Training Loss: 3.2368111610412598, Validation Loss: 3.3304052352905273, Validation Accuracy: 0.0\n",
      "Epoch: 10, Training Loss: 3.1983234882354736, Validation Loss: 3.3256800174713135, Validation Accuracy: 0.0\n",
      "Epoch: 15, Training Loss: 3.1603190898895264, Validation Loss: 3.3210721015930176, Validation Accuracy: 0.0\n",
      "Epoch: 20, Training Loss: 3.1227896213531494, Validation Loss: 3.3166086673736572, Validation Accuracy: 0.0\n",
      "Epoch: 25, Training Loss: 3.0857341289520264, Validation Loss: 3.312267303466797, Validation Accuracy: 0.0\n",
      "Epoch: 30, Training Loss: 3.04913067817688, Validation Loss: 3.3081157207489014, Validation Accuracy: 0.0\n",
      "Epoch: 35, Training Loss: 3.0129356384277344, Validation Loss: 3.3041234016418457, Validation Accuracy: 0.0\n",
      "Epoch: 40, Training Loss: 2.977191686630249, Validation Loss: 3.300262928009033, Validation Accuracy: 0.0\n",
      "Epoch: 45, Training Loss: 2.941882610321045, Validation Loss: 3.296546459197998, Validation Accuracy: 0.0\n",
      "Epoch: 50, Training Loss: 2.90700364112854, Validation Loss: 3.2929461002349854, Validation Accuracy: 0.0\n",
      "Epoch: 55, Training Loss: 2.8724935054779053, Validation Loss: 3.289567232131958, Validation Accuracy: 0.0\n",
      "Epoch: 60, Training Loss: 2.8384203910827637, Validation Loss: 3.2863223552703857, Validation Accuracy: 0.0\n",
      "Epoch: 65, Training Loss: 2.804738759994507, Validation Loss: 3.2832183837890625, Validation Accuracy: 0.0\n",
      "Epoch: 70, Training Loss: 2.7714626789093018, Validation Loss: 3.2802886962890625, Validation Accuracy: 0.0\n",
      "Epoch: 75, Training Loss: 2.7385592460632324, Validation Loss: 3.277545690536499, Validation Accuracy: 0.0\n",
      "Epoch: 80, Training Loss: 2.706023693084717, Validation Loss: 3.2749269008636475, Validation Accuracy: 0.0\n"
     ]
    },
    {
     "name": "stdout",
     "output_type": "stream",
     "text": [
      "Epoch: 85, Training Loss: 2.6739208698272705, Validation Loss: 3.272500514984131, Validation Accuracy: 0.0\n",
      "Epoch: 90, Training Loss: 2.6421754360198975, Validation Loss: 3.270183563232422, Validation Accuracy: 0.0\n",
      "Epoch: 95, Training Loss: 2.6108310222625732, Validation Loss: 3.2681641578674316, Validation Accuracy: 0.0\n",
      "Epoch: 100, Training Loss: 2.579875946044922, Validation Loss: 3.266221761703491, Validation Accuracy: 0.07692307978868484\n",
      "Epoch: 105, Training Loss: 2.5493035316467285, Validation Loss: 3.264474391937256, Validation Accuracy: 0.07692307978868484\n",
      "Epoch: 110, Training Loss: 2.519106388092041, Validation Loss: 3.26292085647583, Validation Accuracy: 0.07692307978868484\n",
      "Epoch: 115, Training Loss: 2.489307403564453, Validation Loss: 3.261481761932373, Validation Accuracy: 0.07692307978868484\n",
      "Epoch: 120, Training Loss: 2.459907054901123, Validation Loss: 3.260287284851074, Validation Accuracy: 0.07692307978868484\n",
      "Epoch: 125, Training Loss: 2.430887460708618, Validation Loss: 3.259211540222168, Validation Accuracy: 0.07692307978868484\n",
      "Epoch: 130, Training Loss: 2.402252435684204, Validation Loss: 3.2583682537078857, Validation Accuracy: 0.07692307978868484\n",
      "Epoch: 135, Training Loss: 2.3740110397338867, Validation Loss: 3.2576966285705566, Validation Accuracy: 0.07692307978868484\n",
      "Epoch: 140, Training Loss: 2.346163272857666, Validation Loss: 3.257206439971924, Validation Accuracy: 0.07692307978868484\n",
      "Epoch: 145, Training Loss: 2.3186914920806885, Validation Loss: 3.25683331489563, Validation Accuracy: 0.1538461595773697\n",
      "Epoch: 150, Training Loss: 2.2916131019592285, Validation Loss: 3.256594657897949, Validation Accuracy: 0.1538461595773697\n",
      "Epoch: 155, Training Loss: 2.264888048171997, Validation Loss: 3.256596565246582, Validation Accuracy: 0.1538461595773697\n",
      "Epoch: 160, Training Loss: 2.23857045173645, Validation Loss: 3.256746530532837, Validation Accuracy: 0.1538461595773697\n",
      "Epoch: 165, Training Loss: 2.212625741958618, Validation Loss: 3.257014751434326, Validation Accuracy: 0.1538461595773697\n",
      "Epoch: 170, Training Loss: 2.187054395675659, Validation Loss: 3.2575037479400635, Validation Accuracy: 0.1538461595773697\n",
      "Epoch: 175, Training Loss: 2.161837577819824, Validation Loss: 3.2580554485321045, Validation Accuracy: 0.1538461595773697\n",
      "Epoch: 180, Training Loss: 2.1369829177856445, Validation Loss: 3.258796215057373, Validation Accuracy: 0.1538461595773697\n",
      "Epoch: 185, Training Loss: 2.112471580505371, Validation Loss: 3.2596895694732666, Validation Accuracy: 0.1538461595773697\n",
      "Epoch: 190, Training Loss: 2.0883212089538574, Validation Loss: 3.2607171535491943, Validation Accuracy: 0.1538461595773697\n",
      "Epoch: 195, Training Loss: 2.064497470855713, Validation Loss: 3.2618870735168457, Validation Accuracy: 0.1538461595773697\n",
      "Epoch: 200, Training Loss: 2.040994644165039, Validation Loss: 3.263174533843994, Validation Accuracy: 0.1538461595773697\n",
      "Time taken: 0.5830395221710205 Seconds\n"
     ]
    }
   ],
   "source": [
    "\n",
    "hidden_size = 128\n",
    "model = RNN(len(chars), hidden_size, len(chars)).to(device)\n",
    "a = 0.005\n",
    "epochs = 200\n",
    "lossFN = nn.CrossEntropyLoss()\n",
    "optimizer = optim.SGD(model.parameters(), lr= a)\n",
    "start_time = time.time()\n",
    "\n",
    "TL(\n",
    "  n_epochs= epochs,\n",
    "  optimizer= optimizer,\n",
    "  model= model,\n",
    "  loss_fn= lossFN,\n",
    "  X_train= X_train,\n",
    "  y_train= y_train,\n",
    "  X_val= X_val,\n",
    "  y_val= y_val\n",
    ")\n",
    "\n",
    "#Getting the time\n",
    "end_time = time.time()\n",
    "elapsed_time = end_time - start_time\n",
    "print(f\"Time taken: {elapsed_time} Seconds\")"
   ]
  },
  {
   "cell_type": "code",
   "execution_count": 343,
   "metadata": {},
   "outputs": [],
   "source": [
    "# Prediction Fn\n",
    "def predict_next_char(model, char_to_ix, ix_to_char, initial_str):\n",
    "    model.eval()\n",
    "    with torch.no_grad():\n",
    "        initial_input = torch.tensor([char_to_ix[c] for c in initial_str[-max_length:]], dtype=torch.long).unsqueeze(0)\n",
    "        prediction = model(initial_input)\n",
    "        predicted_index = torch.argmax(prediction, dim=1).item()\n",
    "        return ix_to_char[predicted_index]"
   ]
  },
  {
   "cell_type": "code",
   "execution_count": 344,
   "metadata": {},
   "outputs": [
    {
     "name": "stdout",
     "output_type": "stream",
     "text": [
      "Model Complexity: 39449\n",
      "Predicted next character: 'a'\n"
     ]
    }
   ],
   "source": [
    "#Complexity\n",
    "numel_list = [p.numel() for p in model.parameters()]\n",
    "print(\"Model Complexity: {}\".format(sum(numel_list)))\n",
    "#sum(numel_list), numel_list\n",
    "\n",
    "model = model.to('cpu')\n",
    "\n",
    "# Predicting the next character\n",
    "test_str = \"This is a simple example to demonstrate how to predict the next char\"\n",
    "predicted_char = predict_next_char(model, char_to_ix, ix_to_char, test_str)\n",
    "print(f\"Predicted next character: '{predicted_char}'\")"
   ]
  }
 ],
 "metadata": {
  "kernelspec": {
   "display_name": "Python 3",
   "language": "python",
   "name": "python3"
  },
  "language_info": {
   "codemirror_mode": {
    "name": "ipython",
    "version": 3
   },
   "file_extension": ".py",
   "mimetype": "text/x-python",
   "name": "python",
   "nbconvert_exporter": "python",
   "pygments_lexer": "ipython3",
   "version": "3.11.8"
  }
 },
 "nbformat": 4,
 "nbformat_minor": 2
}
