{
 "cells": [
  {
   "cell_type": "code",
   "execution_count": 235,
   "metadata": {},
   "outputs": [],
   "source": [
    "#Libraries\n",
    "import torch\n",
    "import torch.nn as nn\n",
    "import torch.optim as optim\n",
    "import numpy as np\n",
    "from sklearn.model_selection import train_test_split\n",
    "import time"
   ]
  },
  {
   "cell_type": "code",
   "execution_count": 236,
   "metadata": {},
   "outputs": [
    {
     "name": "stdout",
     "output_type": "stream",
     "text": [
      "Using GPU: NVIDIA GeForce RTX 3060\n"
     ]
    }
   ],
   "source": [
    "#GPU Checking\n",
    "if torch.cuda.is_available():\n",
    "    device = torch.device(\"cuda\")\n",
    "    print(f\"Using GPU: {torch.cuda.get_device_name(0)}\")\n",
    "else:\n",
    "    device = torch.device(\"cpu\")\n",
    "    print(\"GPU is not available. Using CPU.\")"
   ]
  },
  {
   "cell_type": "code",
   "execution_count": 237,
   "metadata": {},
   "outputs": [],
   "source": [
    "# Text Sample\n",
    "text = \"This is a simple example to demonstrate how to predict the next character using RNN in PyTorch.\""
   ]
  },
  {
   "cell_type": "code",
   "execution_count": 238,
   "metadata": {},
   "outputs": [],
   "source": [
    "# **Taken from the course GitHub**\n",
    "\n",
    "#set(text): Creates a set of unique characters found in the text. The set function removes any duplicate characters.\n",
    "#list(set(text)): Converts the set back into a list so that it can be sorted. \n",
    "# sorted(list(set(text))): Sorts the list of unique characters. \n",
    "chars = sorted(list(set(text)))\n",
    "#This line creates a dictionary that maps each character to a unique index (integer).\"\n",
    "ix_to_char = {i: ch for i, ch in enumerate(chars)}\n",
    "#Similar to the previous line, but in reverse. This line creates a dictionary that maps each unique index (integer) back to its corresponding character.\n",
    "char_to_ix = {ch: i for i, ch in enumerate(chars)} \n",
    "chars = sorted(list(set(text)))"
   ]
  },
  {
   "cell_type": "code",
   "execution_count": 239,
   "metadata": {},
   "outputs": [],
   "source": [
    "# Preparing the dataset\n",
    "max_length = 20  # Maximum length of input sequences\n",
    "X = []\n",
    "y = []\n",
    "for i in range(len(text) - max_length):\n",
    "    sequence = text[i:i + max_length]\n",
    "    label = text[i + max_length]\n",
    "    X.append([char_to_ix[char] for char in sequence])\n",
    "    y.append(char_to_ix[label])\n",
    "\n",
    "X = np.array(X)\n",
    "y = np.array(y)"
   ]
  },
  {
   "cell_type": "code",
   "execution_count": 240,
   "metadata": {},
   "outputs": [],
   "source": [
    "# Splitting the dataset \n",
    "X_train, X_val, y_train, y_val = train_test_split(X, y, test_size=0.2, random_state=1)\n",
    "\n",
    "# Converting to tensors\n",
    "X_train = torch.tensor(X_train, dtype=torch.long).to(device)\n",
    "y_train = torch.tensor(y_train, dtype=torch.long).to(device)\n",
    "X_val = torch.tensor(X_val, dtype=torch.long).to(device)\n",
    "y_val = torch.tensor(y_val, dtype=torch.long).to(device)"
   ]
  },
  {
   "cell_type": "code",
   "execution_count": 241,
   "metadata": {},
   "outputs": [],
   "source": [
    "#Training Loop + Empty Arrays for storing Training and Validation Results\n",
    "\n",
    "def TL(n_epochs, optimizer, model, loss_fn, X_train, y_train, X_val, y_val):\n",
    "  for epoch in range(1, n_epochs + 1):\n",
    "    #Training Loop\n",
    "    model.train()\n",
    "    optimizer.zero_grad()\n",
    "    train_out = model(X_train)\n",
    "    loss = loss_fn(train_out, y_train)\n",
    "    loss.backward()\n",
    "    optimizer.step()\n",
    "    \n",
    "    #Validation Loop\n",
    "    model.eval()\n",
    "    with torch.no_grad():\n",
    "      val_out = model(X_val)\n",
    "      val_loss = loss_fn(val_out, y_val)\n",
    "      _, predicted = torch.max(val_out, 1)\n",
    "      val_accuracy = (predicted == y_val).float().mean()\n",
    "    \n",
    "\n",
    "    if epoch == 1 or epoch % 5 == 0: \n",
    "      print('Epoch: {}, Training Loss: {}, Validation Loss: {}, Validation Accuracy: {}'.format(epoch, loss.item(), val_loss.item(), val_accuracy.item()))\n"
   ]
  },
  {
   "cell_type": "markdown",
   "metadata": {},
   "source": [
    "Question 1 - Part A: RNN"
   ]
  },
  {
   "cell_type": "code",
   "execution_count": 242,
   "metadata": {},
   "outputs": [],
   "source": [
    "# RNN Model\n",
    "class RNN(nn.Module):\n",
    "    def __init__(self, input_size, hidden_size, output_size):\n",
    "        super(RNN, self).__init__()\n",
    "        self.hidden_size = hidden_size \n",
    "        self.embedding = nn.Embedding(input_size, hidden_size)\n",
    "        self.rnn = nn.RNN(hidden_size, hidden_size, batch_first=True)\n",
    "        self.fc = nn.Linear(hidden_size, output_size)\n",
    "\n",
    "    def forward(self, x):\n",
    "        embedded = self.embedding(x)\n",
    "        output, _ = self.rnn(embedded)\n",
    "        output = self.fc(output[:, -1, :])  # Get the output of the last RNN cell\n",
    "        return output"
   ]
  },
  {
   "cell_type": "code",
   "execution_count": 243,
   "metadata": {},
   "outputs": [
    {
     "name": "stdout",
     "output_type": "stream",
     "text": [
      "Epoch: 1, Training Loss: 3.2255806922912598, Validation Loss: 3.289138078689575, Validation Accuracy: 0.0\n",
      "Epoch: 5, Training Loss: 3.196861743927002, Validation Loss: 3.284027338027954, Validation Accuracy: 0.0\n",
      "Epoch: 10, Training Loss: 3.161325216293335, Validation Loss: 3.2778401374816895, Validation Accuracy: 0.06666667014360428\n",
      "Epoch: 15, Training Loss: 3.12614369392395, Validation Loss: 3.2718703746795654, Validation Accuracy: 0.06666667014360428\n",
      "Epoch: 20, Training Loss: 3.0913541316986084, Validation Loss: 3.2660720348358154, Validation Accuracy: 0.06666667014360428\n",
      "Epoch: 25, Training Loss: 3.0569326877593994, Validation Loss: 3.2605717182159424, Validation Accuracy: 0.06666667014360428\n",
      "Epoch: 30, Training Loss: 3.0228431224823, Validation Loss: 3.255220890045166, Validation Accuracy: 0.06666667014360428\n",
      "Epoch: 35, Training Loss: 2.9891178607940674, Validation Loss: 3.2501230239868164, Validation Accuracy: 0.06666667014360428\n",
      "Epoch: 40, Training Loss: 2.9557595252990723, Validation Loss: 3.245145082473755, Validation Accuracy: 0.06666667014360428\n",
      "Epoch: 45, Training Loss: 2.922734260559082, Validation Loss: 3.2404465675354004, Validation Accuracy: 0.06666667014360428\n",
      "Epoch: 50, Training Loss: 2.890072822570801, Validation Loss: 3.235924482345581, Validation Accuracy: 0.06666667014360428\n",
      "Epoch: 55, Training Loss: 2.857741594314575, Validation Loss: 3.2316064834594727, Validation Accuracy: 0.06666667014360428\n",
      "Epoch: 60, Training Loss: 2.8257689476013184, Validation Loss: 3.2274816036224365, Validation Accuracy: 0.06666667014360428\n",
      "Epoch: 65, Training Loss: 2.7941391468048096, Validation Loss: 3.223520040512085, Validation Accuracy: 0.06666667014360428\n",
      "Epoch: 70, Training Loss: 2.762848138809204, Validation Loss: 3.219778299331665, Validation Accuracy: 0.06666667014360428\n",
      "Epoch: 75, Training Loss: 2.7318921089172363, Validation Loss: 3.2162365913391113, Validation Accuracy: 0.06666667014360428\n",
      "Epoch: 80, Training Loss: 2.701300621032715, Validation Loss: 3.212855815887451, Validation Accuracy: 0.06666667014360428\n",
      "Epoch: 85, Training Loss: 2.671065330505371, Validation Loss: 3.2096710205078125, Validation Accuracy: 0.06666667014360428\n",
      "Epoch: 90, Training Loss: 2.641181230545044, Validation Loss: 3.206648349761963, Validation Accuracy: 0.06666667014360428\n",
      "Epoch: 95, Training Loss: 2.611647844314575, Validation Loss: 3.2037973403930664, Validation Accuracy: 0.06666667014360428\n",
      "Epoch: 100, Training Loss: 2.582456111907959, Validation Loss: 3.2011842727661133, Validation Accuracy: 0.13333334028720856\n",
      "Epoch: 105, Training Loss: 2.5536065101623535, Validation Loss: 3.198746681213379, Validation Accuracy: 0.13333334028720856\n",
      "Epoch: 110, Training Loss: 2.5251214504241943, Validation Loss: 3.196425199508667, Validation Accuracy: 0.13333334028720856\n",
      "Epoch: 115, Training Loss: 2.497014045715332, Validation Loss: 3.194272041320801, Validation Accuracy: 0.13333334028720856\n",
      "Epoch: 120, Training Loss: 2.46924090385437, Validation Loss: 3.1923251152038574, Validation Accuracy: 0.13333334028720856\n",
      "Epoch: 125, Training Loss: 2.4418282508850098, Validation Loss: 3.1905643939971924, Validation Accuracy: 0.13333334028720856\n",
      "Epoch: 130, Training Loss: 2.414771795272827, Validation Loss: 3.188939332962036, Validation Accuracy: 0.13333334028720856\n",
      "Epoch: 135, Training Loss: 2.3880655765533447, Validation Loss: 3.187488555908203, Validation Accuracy: 0.13333334028720856\n",
      "Epoch: 140, Training Loss: 2.3617446422576904, Validation Loss: 3.186177968978882, Validation Accuracy: 0.13333334028720856\n",
      "Epoch: 145, Training Loss: 2.335784912109375, Validation Loss: 3.1850686073303223, Validation Accuracy: 0.13333334028720856\n",
      "Epoch: 150, Training Loss: 2.3101701736450195, Validation Loss: 3.184070110321045, Validation Accuracy: 0.13333334028720856\n",
      "Epoch: 155, Training Loss: 2.2849016189575195, Validation Loss: 3.1832473278045654, Validation Accuracy: 0.13333334028720856\n",
      "Epoch: 160, Training Loss: 2.2599868774414062, Validation Loss: 3.1825613975524902, Validation Accuracy: 0.13333334028720856\n",
      "Epoch: 165, Training Loss: 2.2354493141174316, Validation Loss: 3.182004690170288, Validation Accuracy: 0.13333334028720856\n",
      "Epoch: 170, Training Loss: 2.2112390995025635, Validation Loss: 3.1815404891967773, Validation Accuracy: 0.13333334028720856\n",
      "Epoch: 175, Training Loss: 2.187392234802246, Validation Loss: 3.1812682151794434, Validation Accuracy: 0.13333334028720856\n",
      "Epoch: 180, Training Loss: 2.1638731956481934, Validation Loss: 3.1811015605926514, Validation Accuracy: 0.13333334028720856\n",
      "Epoch: 185, Training Loss: 2.140699625015259, Validation Loss: 3.1810555458068848, Validation Accuracy: 0.13333334028720856\n",
      "Epoch: 190, Training Loss: 2.1178629398345947, Validation Loss: 3.1811065673828125, Validation Accuracy: 0.13333334028720856\n",
      "Epoch: 195, Training Loss: 2.0953369140625, Validation Loss: 3.1813244819641113, Validation Accuracy: 0.13333334028720856\n",
      "Epoch: 200, Training Loss: 2.0731709003448486, Validation Loss: 3.1816399097442627, Validation Accuracy: 0.13333334028720856\n",
      "Time taken: 0.5765831470489502 Seconds\n"
     ]
    }
   ],
   "source": [
    "\n",
    "hidden_size = 128\n",
    "model = RNN(len(chars), hidden_size, len(chars)).to(device)\n",
    "a = 0.005\n",
    "epochs = 200\n",
    "lossFN = nn.CrossEntropyLoss()\n",
    "optimizer = optim.SGD(model.parameters(), lr= a)\n",
    "start_time = time.time()\n",
    "\n",
    "TL(\n",
    "  n_epochs= epochs,\n",
    "  optimizer= optimizer,\n",
    "  model= model,\n",
    "  loss_fn= lossFN,\n",
    "  X_train= X_train,\n",
    "  y_train= y_train,\n",
    "  X_val= X_val,\n",
    "  y_val= y_val\n",
    ")\n",
    "\n",
    "#Getting the time\n",
    "end_time = time.time()\n",
    "elapsed_time = end_time - start_time\n",
    "print(f\"Time taken: {elapsed_time} Seconds\")"
   ]
  },
  {
   "cell_type": "code",
   "execution_count": 244,
   "metadata": {},
   "outputs": [],
   "source": [
    "# Prediction Fn\n",
    "def predict_next_char(model, char_to_ix, ix_to_char, initial_str):\n",
    "    model.eval()\n",
    "    with torch.no_grad():\n",
    "        initial_input = torch.tensor([char_to_ix[c] for c in initial_str[-max_length:]], dtype=torch.long).unsqueeze(0)\n",
    "        prediction = model(initial_input)\n",
    "        predicted_index = torch.argmax(prediction, dim=1).item()\n",
    "        return ix_to_char[predicted_index]"
   ]
  },
  {
   "cell_type": "code",
   "execution_count": 245,
   "metadata": {},
   "outputs": [
    {
     "name": "stdout",
     "output_type": "stream",
     "text": [
      "Model Complexity: 39449\n",
      "Predicted next character: 'a'\n"
     ]
    }
   ],
   "source": [
    "#Complexity\n",
    "numel_list = [p.numel() for p in model.parameters()]\n",
    "print(\"Model Complexity: {}\".format(sum(numel_list)))\n",
    "#sum(numel_list), numel_list\n",
    "\n",
    "model = model.to('cpu')\n",
    "\n",
    "# Predicting the next character\n",
    "test_str = \"This is a simple example to demonstrate how to predict the next char\"\n",
    "predicted_char = predict_next_char(model, char_to_ix, ix_to_char, test_str)\n",
    "print(f\"Predicted next character: '{predicted_char}'\")"
   ]
  }
 ],
 "metadata": {
  "kernelspec": {
   "display_name": "Python 3",
   "language": "python",
   "name": "python3"
  },
  "language_info": {
   "codemirror_mode": {
    "name": "ipython",
    "version": 3
   },
   "file_extension": ".py",
   "mimetype": "text/x-python",
   "name": "python",
   "nbconvert_exporter": "python",
   "pygments_lexer": "ipython3",
   "version": "3.11.8"
  }
 },
 "nbformat": 4,
 "nbformat_minor": 2
}
