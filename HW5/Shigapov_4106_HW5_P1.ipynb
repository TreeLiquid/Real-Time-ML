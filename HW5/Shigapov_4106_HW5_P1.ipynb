{
 "cells": [
  {
   "cell_type": "code",
   "execution_count": 45,
   "metadata": {},
   "outputs": [],
   "source": [
    "#Libraries\n",
    "import torch\n",
    "import torch.nn as nn\n",
    "import torch.optim as optim\n",
    "import numpy as np\n",
    "from sklearn.model_selection import train_test_split\n",
    "import time"
   ]
  },
  {
   "cell_type": "code",
   "execution_count": 46,
   "metadata": {},
   "outputs": [
    {
     "name": "stdout",
     "output_type": "stream",
     "text": [
      "Using GPU: NVIDIA GeForce RTX 3060\n"
     ]
    }
   ],
   "source": [
    "#GPU Checking\n",
    "if torch.cuda.is_available():\n",
    "    device = torch.device(\"cuda\")\n",
    "    print(f\"Using GPU: {torch.cuda.get_device_name(0)}\")\n",
    "else:\n",
    "    device = torch.device(\"cpu\")\n",
    "    print(\"GPU is not available. Using CPU.\")"
   ]
  },
  {
   "cell_type": "code",
   "execution_count": 47,
   "metadata": {},
   "outputs": [],
   "source": [
    "# Text Sample\n",
    "text = \"\"\"\n",
    "    Next character prediction is a fundamental task in the field of natural language processing (NLP) that involves predicting the next character in a sequence of text based on the characters that precede it. This task is essential for various applications, including text auto-completion, spell checking, and even in the development of sophisticated AI models capable of generating human-like text. \n",
    "    At its core, next character prediction relies on statistical models or deep learning algorithms to analyze a given sequence of text and predict which character is most likely to follow. These predictions are based on patterns and relationships learned from large datasets of text during the training phase of the model. \n",
    "    One of the most popular approaches to next character prediction involves the use of Recurrent Neural Networks (RNNs), and more specifically, a variant called Long Short-Term Memory (LSTM) networks. RNNs are particularly well-suited for sequential data like text, as they can maintain information in 'memory' about previous characters to inform the prediction of the next character. \n",
    "    LSTM networks enhance this capability by being able to remember long-term dependencies, making them even more effective for next character prediction tasks.\n",
    "    Training a model for next character prediction involves feeding it large amounts of text data, allowing it to learn the probability of each character's appearance following a sequence of characters. During this training process, the model adjusts its parameters to minimize the difference between its predictions and the actual outcomes, thus improving its predictive accuracy over time. \n",
    "    Once trained, the model can be used to predict the next character in a given piece of text by considering the sequence of characters that precede it. This can enhance user experience in text editing software, improve efficiency in coding environments with auto-completion features, and enable more natural interactions with AI-based chatbots and virtual assistants.\n",
    "    In summary, next character prediction plays a crucial role in enhancing the capabilities of various NLP applications, making text-based interactions more efficient, accurate, and human-like. Through the use of advanced machine learning models like RNNs and LSTMs, next character prediction continues to evolve, opening new possibilities for the future of text-based technology.\n",
    "    \"\"\""
   ]
  },
  {
   "cell_type": "code",
   "execution_count": 48,
   "metadata": {},
   "outputs": [],
   "source": [
    "#Create Vocab\n",
    "chars = sorted(list(set(text)))\n",
    "ix_to_char = {i: ch for i, ch in enumerate(chars)}\n",
    "char_to_ix = {ch: i for i, ch in enumerate(chars)} "
   ]
  },
  {
   "cell_type": "code",
   "execution_count": 49,
   "metadata": {},
   "outputs": [],
   "source": [
    "# Preparing the dataset\n",
    "max_length = 30  # Maximum length of input sequences\n",
    "X = []\n",
    "y = []\n",
    "for i in range(len(text) - max_length - 1):\n",
    "    sequence = text[i:i + max_length]\n",
    "    label_sequence = text[i+1:i + max_length + 1]  # Shift by one for the next character sequence\n",
    "    X.append([char_to_ix[char] for char in sequence])\n",
    "    y.append([char_to_ix[char] for char in label_sequence])\n",
    "\n",
    "X = np.array(X)\n",
    "y = np.array(y)"
   ]
  },
  {
   "cell_type": "code",
   "execution_count": 50,
   "metadata": {},
   "outputs": [],
   "source": [
    "# Splitting the dataset \n",
    "X_train, X_val, y_train, y_val = train_test_split(X, y, test_size=0.2, random_state=1)\n",
    "\n",
    "# Converting to tensors\n",
    "X_train = torch.tensor(X_train, dtype=torch.long).to(device)\n",
    "y_train = torch.tensor(y_train, dtype=torch.long).to(device)\n",
    "X_val = torch.tensor(X_val, dtype=torch.long).to(device)\n",
    "y_val = torch.tensor(y_val, dtype=torch.long).to(device)"
   ]
  },
  {
   "cell_type": "code",
   "execution_count": 51,
   "metadata": {},
   "outputs": [],
   "source": [
    "#Training Loop + Empty Arrays for storing Training and Validation Results\n",
    "\n",
    "def TL(n_epochs, optimizer, model, loss_fn, X_train, y_train, X_val, y_val):\n",
    "  for epoch in range(1, n_epochs + 1):\n",
    "    #Training Loop\n",
    "    model.train()\n",
    "    optimizer.zero_grad()\n",
    "    train_out = model(X_train)\n",
    "    loss = loss_fn(train_out.transpose(1, 2), y_train)\n",
    "    loss.backward()\n",
    "    optimizer.step()\n",
    "    \n",
    "    #Validation Loop\n",
    "    model.eval()\n",
    "    with torch.no_grad():\n",
    "      val_out = model(X_val)\n",
    "      val_loss = loss_fn(val_out.transpose(1, 2), y_val)\n",
    "      _, predicted = torch.max(val_out, 2)\n",
    "      val_accuracy = (predicted == y_val).float().mean()\n",
    "      \n",
    "\n",
    "\n",
    "    \n",
    "\n",
    "    if epoch == 1 or epoch % 10 == 0: \n",
    "      print('Epoch: {}, Training Loss: {}, Validation Loss: {}, Validation Accuracy: {}'.format(epoch, loss.item(), val_loss.item(), val_accuracy.item()))\n"
   ]
  },
  {
   "cell_type": "markdown",
   "metadata": {},
   "source": [
    "Question 1"
   ]
  },
  {
   "cell_type": "code",
   "execution_count": 52,
   "metadata": {},
   "outputs": [],
   "source": [
    "# Positional Encoder\n",
    "class PositionalEncoding(nn.Module):\n",
    "    def __init__(self, d_model, max_len= 10000):\n",
    "        super(PositionalEncoding, self).__init__()\n",
    "        self.encoding = torch.zeros(max_len, d_model)\n",
    "        position = torch.arange(0, max_len, dtype=torch.float).unsqueeze(1)\n",
    "        div_term = torch.exp(torch.arange(0, d_model, 2).float() * (-np.log(10000.0) / d_model))\n",
    "        self.encoding[:, 0::2] = torch.sin(position * div_term)\n",
    "        self.encoding[:, 1::2] = torch.cos(position * div_term)\n",
    "        self.encoding = self.encoding.unsqueeze(0).detach()\n",
    "\n",
    "        # Register as a buffer to ensure it moves with the model to any device\n",
    "        self.register_buffer('encoding_buffer', self.encoding)\n",
    "\n",
    "    def forward(self, x):\n",
    "        encoding_to_use = self.encoding.to(x.device)  # Move encoding to the correct device dynamically\n",
    "        return x + encoding_to_use[:, :x.size(1)]\n",
    "        "
   ]
  },
  {
   "cell_type": "code",
   "execution_count": 53,
   "metadata": {},
   "outputs": [],
   "source": [
    "#Transformer model definition\n",
    "class CharTransformer(nn.Module):\n",
    "    def __init__(self, input_size, hidden_size, output_size, num_layers, nhead, drop=0.01):\n",
    "        super(CharTransformer, self).__init__()\n",
    "        self.embedding = nn.Embedding(input_size, hidden_size)\n",
    "        self.pos_encoder = PositionalEncoding(hidden_size)\n",
    "        self.dropout = nn.Dropout(p=drop)\n",
    "        encoder_layers = nn.TransformerEncoderLayer(hidden_size, nhead, dropout= drop, batch_first=True)\n",
    "        self.transformer_encoder = nn.TransformerEncoder(encoder_layers, num_layers)\n",
    "        self.fc = nn.Linear(hidden_size, output_size)\n",
    "        self.softmax = nn.Softmax(dim=2)  # Softmax layer over the feature dimension\n",
    "\n",
    "    def forward(self, x):\n",
    "        embedded = self.embedding(x)\n",
    "        embedded = self.pos_encoder(embedded)\n",
    "        embedded = self.dropout(embedded)\n",
    "        transformer_output = self.transformer_encoder(embedded)\n",
    "        output = self.fc(transformer_output)\n",
    "        return self.softmax(output)  # Apply softmax to the linear layer output"
   ]
  },
  {
   "cell_type": "code",
   "execution_count": 54,
   "metadata": {},
   "outputs": [
    {
     "name": "stdout",
     "output_type": "stream",
     "text": [
      "Epoch: 1, Training Loss: 3.804814577102661, Validation Loss: 3.8048479557037354, Validation Accuracy: 0.031315237283706665\n",
      "Epoch: 10, Training Loss: 3.8044679164886475, Validation Loss: 3.8044798374176025, Validation Accuracy: 0.03395963832736015\n",
      "Epoch: 20, Training Loss: 3.8040387630462646, Validation Loss: 3.8040497303009033, Validation Accuracy: 0.03736951947212219\n",
      "Epoch: 30, Training Loss: 3.8035829067230225, Validation Loss: 3.803591728210449, Validation Accuracy: 0.04161447286605835\n",
      "Epoch: 40, Training Loss: 3.8030669689178467, Validation Loss: 3.803105592727661, Validation Accuracy: 0.0454418919980526\n",
      "Epoch: 50, Training Loss: 3.802578926086426, Validation Loss: 3.802586317062378, Validation Accuracy: 0.050452329218387604\n",
      "Epoch: 60, Training Loss: 3.802011251449585, Validation Loss: 3.8020219802856445, Validation Accuracy: 0.05469728261232376\n",
      "Epoch: 70, Training Loss: 3.8014144897460938, Validation Loss: 3.8014140129089355, Validation Accuracy: 0.06005566939711571\n",
      "Epoch: 80, Training Loss: 3.8007469177246094, Validation Loss: 3.800752878189087, Validation Accuracy: 0.06367431581020355\n",
      "Epoch: 90, Training Loss: 3.8000400066375732, Validation Loss: 3.8000288009643555, Validation Accuracy: 0.06569240987300873\n",
      "Epoch: 100, Training Loss: 3.7992475032806396, Validation Loss: 3.7992284297943115, Validation Accuracy: 0.06972859799861908\n",
      "Time taken: 1249.2269685268402 Seconds\n"
     ]
    }
   ],
   "source": [
    "#Parameters\n",
    "hidden_size = 1024\n",
    "num_layers = 4\n",
    "nhead = 2\n",
    "a = 0.001\n",
    "epochs = 100\n",
    "\n",
    "\n",
    "model = CharTransformer(len(chars), hidden_size, len(chars), num_layers, nhead).to(device)\n",
    "lossFN = nn.CrossEntropyLoss()\n",
    "optimizer = optim.SGD(model.parameters(), lr= a)\n",
    "start_time = time.time()\n",
    "\n",
    "TL(\n",
    "  n_epochs= epochs,\n",
    "  optimizer= optimizer,\n",
    "  model= model,\n",
    "  loss_fn= lossFN,\n",
    "  X_train= X_train,\n",
    "  y_train= y_train,\n",
    "  X_val= X_val,\n",
    "  y_val= y_val\n",
    ")\n",
    "\n",
    "#Getting the time\n",
    "end_time = time.time()\n",
    "elapsed_time = end_time - start_time\n",
    "print(f\"Time taken: {elapsed_time} Seconds\")"
   ]
  },
  {
   "cell_type": "code",
   "execution_count": 55,
   "metadata": {},
   "outputs": [],
   "source": [
    "# Prediction Fn\n",
    "def predict_next_char(model, char_to_ix, ix_to_char, initial_str):\n",
    "    model.eval()\n",
    "    with torch.no_grad():\n",
    "        initial_input = torch.tensor([char_to_ix[c] for c in initial_str[-max_length:]], dtype=torch.long).unsqueeze(0)\n",
    "        prediction = model(initial_input)\n",
    "        predicted_index = torch.argmax(prediction[0, :, -1]).item()\n",
    "        return ix_to_char[predicted_index]"
   ]
  },
  {
   "cell_type": "code",
   "execution_count": 56,
   "metadata": {},
   "outputs": [
    {
     "name": "stdout",
     "output_type": "stream",
     "text": [
      "Model Complexity: 33691693\n",
      "Predicted next character: '''\n"
     ]
    }
   ],
   "source": [
    "#Complexity\n",
    "numel_list = [p.numel() for p in model.parameters()]\n",
    "print(\"Model Complexity: {}\".format(sum(numel_list)))\n",
    "#sum(numel_list), numel_list\n",
    "\n",
    "model = model.to('cpu')\n",
    "\n",
    "# Predicting the next character\n",
    "test_str = \"This is a simple example to demonstrate how to predict t\"\n",
    "predicted_char = predict_next_char(model, char_to_ix, ix_to_char, test_str)\n",
    "print(f\"Predicted next character: '{predicted_char}'\")"
   ]
  }
 ],
 "metadata": {
  "kernelspec": {
   "display_name": "Python 3",
   "language": "python",
   "name": "python3"
  },
  "language_info": {
   "codemirror_mode": {
    "name": "ipython",
    "version": 3
   },
   "file_extension": ".py",
   "mimetype": "text/x-python",
   "name": "python",
   "nbconvert_exporter": "python",
   "pygments_lexer": "ipython3",
   "version": "3.11.9"
  }
 },
 "nbformat": 4,
 "nbformat_minor": 2
}
