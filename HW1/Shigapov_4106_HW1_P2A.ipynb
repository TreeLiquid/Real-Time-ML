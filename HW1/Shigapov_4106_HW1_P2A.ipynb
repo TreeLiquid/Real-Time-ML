{
 "cells": [
  {
   "cell_type": "code",
   "execution_count": 168,
   "metadata": {},
   "outputs": [],
   "source": [
    "#Libraries\n",
    "import numpy as np\n",
    "import pandas as pd\n",
    "import os\n",
    "import torch\n",
    "import torch.nn as nn\n",
    "import torch.optim as optim\n",
    "from torch.utils.data import TensorDataset, DataLoader\n",
    "import matplotlib.pyplot as plt\n",
    "from sklearn.preprocessing import StandardScaler\n",
    "from sklearn.model_selection import train_test_split\n",
    "from sklearn.metrics import precision_score, recall_score, f1_score"
   ]
  },
  {
   "cell_type": "code",
   "execution_count": 169,
   "metadata": {},
   "outputs": [
    {
     "name": "stdout",
     "output_type": "stream",
     "text": [
      "Using GPU: NVIDIA GeForce RTX 3060\n"
     ]
    }
   ],
   "source": [
    "#GPU Checking\n",
    "if torch.cuda.is_available():\n",
    "    device = torch.device(\"cuda\")\n",
    "    print(f\"Using GPU: {torch.cuda.get_device_name(0)}\")\n",
    "else:\n",
    "    device = torch.device(\"cpu\")\n",
    "    print(\"GPU is not available. Using CPU.\")"
   ]
  },
  {
   "cell_type": "code",
   "execution_count": 170,
   "metadata": {},
   "outputs": [],
   "source": [
    "#Grabbing Datasets\n",
    "hd_train = pd.read_csv('./datasets/house-train.csv')\n",
    "\n",
    "#Grab Feature Columns\n",
    "feature_cols = ['OverallQual', 'GrLivArea', 'GarageArea', 'TotalBsmtSF',\n",
    "            'FullBath', 'YearBuilt', 'YearRemodAdd', 'Fireplaces',\n",
    "            'LotFrontage','WoodDeckSF','OpenPorchSF',\n",
    "            'ExterQual','Neighborhood','MSZoning',\n",
    "            'Alley','LotShape','LandContour','Condition1','HouseStyle',\n",
    "            'MasVnrType','SaleCondition',]\n",
    "\n",
    "features = hd_train[feature_cols].copy()\n",
    "target = hd_train['SalePrice'].values.reshape(-1,1)\n",
    "\n",
    "#Convert to floats and handle NaN values + scaling\n",
    "features = features.apply(pd.to_numeric, errors='coerce').fillna(0)\n",
    "features = StandardScaler().fit_transform(features)"
   ]
  },
  {
   "cell_type": "code",
   "execution_count": 171,
   "metadata": {},
   "outputs": [],
   "source": [
    "#Train-Test Split\n",
    "x_train, x_val, y_train, y_val = train_test_split(features, target, test_size= 0.2, random_state= 0)\n",
    "\n",
    "#training tensors\n",
    "x_trainT = torch.tensor(x_train, dtype=torch.float32)\n",
    "y_trainT = torch.tensor(y_train, dtype=torch.float32).view(-1, 1)\n",
    "\n",
    "#Validation Tensors\n",
    "x_valT = torch.tensor(x_val, dtype=torch.float32)\n",
    "y_valT = torch.tensor(y_val, dtype=torch.float32).view(-1, 1)"
   ]
  },
  {
   "cell_type": "code",
   "execution_count": 172,
   "metadata": {},
   "outputs": [],
   "source": [
    "#Data Loaders\n",
    "train_dataset = TensorDataset(x_trainT, y_trainT)\n",
    "valid_dataset = TensorDataset(x_valT, y_valT)\n",
    "\n",
    "training_loader = DataLoader(dataset= train_dataset, batch_size= 16, shuffle= True)\n",
    "valid_loader = DataLoader(dataset= valid_dataset, batch_size= 16, shuffle= False)\n"
   ]
  },
  {
   "cell_type": "code",
   "execution_count": 173,
   "metadata": {},
   "outputs": [],
   "source": [
    "#Training Loop + Empty Arrays for storing Training and Validation Results\n",
    "train_loss_list = []\n",
    "val_loss_list = []\n",
    "rmse = 0\n",
    "\n",
    "\n",
    "#Regression TL\n",
    "def TL(n_epochs, optimizer, model, loss_fn, training_loader, valid_loader):\n",
    "  for epoch in range(1, n_epochs + 1):\n",
    "    loss_train = 0.0\n",
    "    model.train()\n",
    "    for inputs, targets in training_loader:\n",
    "      inputs = inputs.to(device)\n",
    "      targets = targets.to(device)\n",
    "      optimizer.zero_grad()\n",
    "      outputs = model(inputs)\n",
    "      loss = loss_fn(outputs, targets)\n",
    "      loss.backward()\n",
    "      optimizer.step()\n",
    "      loss_train += loss.item() * inputs.size(0)\n",
    "\n",
    "    loss_train /= len(training_loader.dataset)\n",
    "    train_loss_list.append(loss_train) \n",
    "\n",
    "    \n",
    "    #Validation Loop\n",
    "    model.eval()\n",
    "    total = 0.0\n",
    "    valid_loss = 0.0\n",
    "    \n",
    "    with torch.no_grad():\n",
    "      for inputs, labels in valid_loader:\n",
    "          inputs = inputs.to(device)\n",
    "          labels = labels.to(device)\n",
    "          outputs = model(inputs)\n",
    "          loss = loss_fn(outputs, labels)\n",
    "          valid_loss += loss.item() * inputs.size(0)\n",
    "          total += ((outputs - labels) ** 2).sum().item()\n",
    "              \n",
    "    valid_loss /= len(valid_loader.dataset)\n",
    "    val_loss_list.append(valid_loss)\n",
    "    rmse = np.sqrt(total / len(valid_loader.dataset))\n",
    "\n",
    "    if epoch == 1 or epoch % 5 == 0: \n",
    "      print('Epoch: {}, Training Loss: {}, Validation Loss: {}, RMSE: {}'.format(epoch, loss_train / len(training_loader), valid_loss / len(valid_loader), rmse))\n",
    "  "
   ]
  },
  {
   "cell_type": "markdown",
   "metadata": {},
   "source": [
    "Problem 2A - No One-Hot encoding"
   ]
  },
  {
   "cell_type": "code",
   "execution_count": 174,
   "metadata": {},
   "outputs": [],
   "source": [
    "#Model\n",
    "class RegressionNet(nn.Module):\n",
    "    def __init__(self):\n",
    "        super(RegressionNet, self).__init__()\n",
    "        self.fc1 = nn.Linear(21, 256)  # 6 input features\n",
    "        self.fc2 = nn.Linear(256, 64)\n",
    "        self.fc3 = nn.Linear(64, 8)\n",
    "        self.fc4 = nn.Linear(8, 1)  # Output layer with 2 units for width and height\n",
    "\n",
    "    def forward(self, x):\n",
    "        x = torch.relu(self.fc1(x))\n",
    "        x = torch.relu(self.fc2(x))\n",
    "        x = torch.relu(self.fc3(x))\n",
    "        x = self.fc4(x)\n",
    "        return x\n"
   ]
  },
  {
   "cell_type": "code",
   "execution_count": 175,
   "metadata": {},
   "outputs": [
    {
     "name": "stdout",
     "output_type": "stream",
     "text": [
      "Epoch: 1, Training Loss: 532153465.25051606, Validation Loss: 2094457210.001442, RMSE: 199486.05713188928\n",
      "Epoch: 5, Training Loss: 496589464.47588664, Validation Loss: 1878985473.291997, RMSE: 188946.35215464717\n",
      "Epoch: 10, Training Loss: 136954139.43028712, Validation Loss: 514352757.7563086, RMSE: 98856.97950761931\n",
      "Epoch: 15, Training Loss: 65471235.41077125, Validation Loss: 406074056.44412404, RMSE: 87837.38994550303\n",
      "Epoch: 20, Training Loss: 54989292.06380184, Validation Loss: 349834818.07642394, RMSE: 81528.28676877772\n",
      "Epoch: 25, Training Loss: 46336103.115781575, Validation Loss: 304525102.32732517, RMSE: 76065.609471161\n",
      "Epoch: 30, Training Loss: 38971928.211671986, Validation Loss: 268046116.7296323, RMSE: 71364.39040490022\n",
      "Epoch: 35, Training Loss: 32780648.160630513, Validation Loss: 234803817.02090845, RMSE: 66792.75801609977\n",
      "Epoch: 40, Training Loss: 27601867.66147495, Validation Loss: 208838438.57534245, RMSE: 62991.51000675811\n",
      "Epoch: 45, Training Loss: 23627128.914242823, Validation Loss: 191446143.16943043, RMSE: 60311.49741317304\n",
      "Epoch: 50, Training Loss: 20743157.815725278, Validation Loss: 178568566.31002164, RMSE: 58247.77042849289\n",
      "Epoch: 55, Training Loss: 18602041.39463314, Validation Loss: 168797490.94160056, RMSE: 56631.72545393978\n",
      "Epoch: 60, Training Loss: 17208322.89435166, Validation Loss: 163994431.67700073, RMSE: 55820.19528685844\n",
      "Epoch: 65, Training Loss: 16240908.658284856, Validation Loss: 159679684.56813264, RMSE: 55080.97681409182\n",
      "Epoch: 70, Training Loss: 15529669.875774067, Validation Loss: 154827235.48377794, RMSE: 54237.60203209376\n",
      "Epoch: 75, Training Loss: 15052834.011634454, Validation Loss: 152626156.1586157, RMSE: 53850.691425586156\n",
      "Epoch: 80, Training Loss: 14778760.98630137, Validation Loss: 148396722.52631578, RMSE: 53099.31946833217\n",
      "Epoch: 85, Training Loss: 14421237.443422781, Validation Loss: 149242743.740447, RMSE: 53250.466017383296\n",
      "Epoch: 90, Training Loss: 14227421.625070369, Validation Loss: 148239789.21989906, RMSE: 53071.23510130589\n",
      "Epoch: 95, Training Loss: 14055735.926440232, Validation Loss: 147580855.92501804, RMSE: 52953.1515830299\n",
      "Epoch: 100, Training Loss: 13931168.831675736, Validation Loss: 145478325.80245134, RMSE: 52574.59643446229\n"
     ]
    }
   ],
   "source": [
    "#Training\n",
    "model = RegressionNet().to(device)\n",
    "a = 0.001\n",
    "epochs = 100\n",
    "lossFN = nn.MSELoss()\n",
    "optimizer = optim.Adam(model.parameters(), lr= a)\n",
    "\n",
    "TL(\n",
    "  n_epochs= epochs,\n",
    "  optimizer= optimizer,\n",
    "  model= model,\n",
    "  loss_fn= lossFN,\n",
    "  training_loader= training_loader,\n",
    "  valid_loader= valid_loader,\n",
    ")"
   ]
  },
  {
   "cell_type": "code",
   "execution_count": 176,
   "metadata": {},
   "outputs": [
    {
     "data": {
      "image/png": "[encoded data removed]",
      "text/plain": [
       "<Figure size 640x480 with 1 Axes>"
      ]
     },
     "metadata": {},
     "output_type": "display_data"
    }
   ],
   "source": [
    "# Plotting training and validation loss\n",
    "plt.plot(train_loss_list, label='Training Loss')\n",
    "plt.plot(val_loss_list, label='Validation Loss')\n",
    "plt.xlabel('Epoch')\n",
    "plt.ylabel('Loss')\n",
    "plt.title('Training and Validation Loss')\n",
    "plt.legend()\n",
    "plt.show()"
   ]
  }
 ],
 "metadata": {
  "kernelspec": {
   "display_name": "Python 3",
   "language": "python",
   "name": "python3"
  },
  "language_info": {
   "codemirror_mode": {
    "name": "ipython",
    "version": 3
   },
   "file_extension": ".py",
   "mimetype": "text/x-python",
   "name": "python",
   "nbconvert_exporter": "python",
   "pygments_lexer": "ipython3",
   "version": "3.11.7"
  }
 },
 "nbformat": 4,
 "nbformat_minor": 2
}
