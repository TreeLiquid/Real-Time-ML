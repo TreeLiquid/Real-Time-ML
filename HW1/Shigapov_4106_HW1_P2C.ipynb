{
 "cells": [
  {
   "cell_type": "code",
   "execution_count": 19,
   "metadata": {},
   "outputs": [],
   "source": [
    "#Libraries\n",
    "import numpy as np\n",
    "import pandas as pd\n",
    "import torch\n",
    "import torch.nn as nn\n",
    "import torch.optim as optim\n",
    "from torch.utils.data import TensorDataset, DataLoader\n",
    "import matplotlib.pyplot as plt\n",
    "from sklearn.preprocessing import StandardScaler\n",
    "from sklearn.model_selection import train_test_split"
   ]
  },
  {
   "cell_type": "code",
   "execution_count": 20,
   "metadata": {},
   "outputs": [
    {
     "name": "stdout",
     "output_type": "stream",
     "text": [
      "Using GPU: NVIDIA GeForce RTX 3060\n"
     ]
    }
   ],
   "source": [
    "#GPU Checking\n",
    "if torch.cuda.is_available():\n",
    "    device = torch.device(\"cuda\")\n",
    "    print(f\"Using GPU: {torch.cuda.get_device_name(0)}\")\n",
    "else:\n",
    "    device = torch.device(\"cpu\")\n",
    "    print(\"GPU is not available. Using CPU.\")"
   ]
  },
  {
   "cell_type": "code",
   "execution_count": 21,
   "metadata": {},
   "outputs": [],
   "source": [
    "#Grabbing Datasets\n",
    "hd_train = pd.read_csv('./datasets/house-train.csv')\n",
    "\n",
    "#Grab Feature Columns\n",
    "feature_cols = ['OverallQual', 'GrLivArea', 'GarageArea', 'TotalBsmtSF',\n",
    "            'FullBath', 'YearBuilt', 'YearRemodAdd', 'Fireplaces',\n",
    "            'LotFrontage','WoodDeckSF','OpenPorchSF',\n",
    "            'ExterQual','Neighborhood','MSZoning',\n",
    "            'Alley','LotShape','LandContour','Condition1','HouseStyle',\n",
    "            'MasVnrType','SaleCondition',]\n",
    "\n",
    "encode_cols = ['Neighborhood','MSZoning','Alley','LotShape','LandContour','Condition1','HouseStyle','MasVnrType','SaleCondition']\n",
    "\n",
    "hd = pd.get_dummies(hd_train, columns= encode_cols)\n",
    "hd = hd_train.replace({True: 1, False: 0})\n",
    "\n",
    "features = hd[encode_cols].copy()\n",
    "target = hd_train['SalePrice'].values.reshape(-1,1)\n",
    "\n",
    "#Convert to floats and handle NaN values + scaling\n",
    "features = features.apply(pd.to_numeric, errors='coerce').fillna(0)\n",
    "features = StandardScaler().fit_transform(features)"
   ]
  },
  {
   "cell_type": "code",
   "execution_count": 22,
   "metadata": {},
   "outputs": [],
   "source": [
    "#Train-Test Split\n",
    "x_train, x_val, y_train, y_val = train_test_split(features, target, test_size= 0.2, random_state= 0)\n",
    "\n",
    "#training tensors\n",
    "x_trainT = torch.tensor(x_train, dtype=torch.float32)\n",
    "y_trainT = torch.tensor(y_train, dtype=torch.float32).view(-1, 1)\n",
    "\n",
    "#Validation Tensors\n",
    "x_valT = torch.tensor(x_val, dtype=torch.float32)\n",
    "y_valT = torch.tensor(y_val, dtype=torch.float32).view(-1, 1)"
   ]
  },
  {
   "cell_type": "code",
   "execution_count": 23,
   "metadata": {},
   "outputs": [],
   "source": [
    "#Data Loaders\n",
    "train_dataset = TensorDataset(x_trainT, y_trainT)\n",
    "valid_dataset = TensorDataset(x_valT, y_valT)\n",
    "\n",
    "training_loader = DataLoader(dataset= train_dataset, batch_size= 16, shuffle= True)\n",
    "valid_loader = DataLoader(dataset= valid_dataset, batch_size= 16, shuffle= False)\n"
   ]
  },
  {
   "cell_type": "code",
   "execution_count": 24,
   "metadata": {},
   "outputs": [
    {
     "data": {
      "text/plain": [
       "9"
      ]
     },
     "execution_count": 24,
     "metadata": {},
     "output_type": "execute_result"
    }
   ],
   "source": [
    "#Training Loop + Empty Arrays for storing Training and Validation Results\n",
    "train_loss_list = []\n",
    "val_loss_list = []\n",
    "\n",
    "val_accuracy_list = []\n",
    "all_predicted = []\n",
    "all_labels = []\n",
    "\n",
    "#Regression TL\n",
    "def TL(n_epochs, optimizer, model, loss_fn, training_loader, valid_loader):\n",
    "  for epoch in range(1, n_epochs + 1):\n",
    "    loss_train = 0.0\n",
    "    model.train()\n",
    "    for inputs, targets in training_loader:\n",
    "      inputs = inputs.to(device)\n",
    "      targets = targets.to(device)\n",
    "      optimizer.zero_grad()\n",
    "      outputs = model(inputs)\n",
    "      loss = loss_fn(outputs, targets)\n",
    "      loss.backward()\n",
    "      optimizer.step()\n",
    "      loss_train += loss.item() * inputs.size(0)\n",
    "\n",
    "    loss_train /= len(training_loader.dataset)\n",
    "    train_loss_list.append(loss_train) \n",
    "\n",
    "    \n",
    "    #Validation Loop\n",
    "    model.eval()\n",
    "    total = 0.0\n",
    "    valid_loss = 0.0\n",
    "    \n",
    "    with torch.no_grad():\n",
    "      for inputs, labels in valid_loader:\n",
    "          inputs = inputs.to(device)\n",
    "          labels = labels.to(device)\n",
    "          outputs = model(inputs)\n",
    "          loss = loss_fn(outputs, labels)\n",
    "          valid_loss += loss.item() * inputs.size(0)\n",
    "          total += ((outputs - labels) ** 2).sum().item()\n",
    "          \n",
    "\n",
    "          \n",
    "    valid_loss /= len(valid_loader.dataset)\n",
    "    val_loss_list.append(valid_loss)\n",
    "    rmse = np.sqrt(total / len(valid_loader.dataset))\n",
    "\n",
    "    if epoch == 1 or epoch % 5 == 0: \n",
    "      print('Epoch: {}, Training Loss: {}, Validation Loss: {}, RMSE: {}'.format(epoch, loss_train / len(training_loader), valid_loss / len(valid_loader), rmse))\n",
    "  \n",
    "\n",
    "x_trainT.shape[1]"
   ]
  },
  {
   "cell_type": "markdown",
   "metadata": {},
   "source": [
    "Problem 2B - One-Hot encoding"
   ]
  },
  {
   "cell_type": "code",
   "execution_count": 25,
   "metadata": {},
   "outputs": [],
   "source": [
    "#Model\n",
    "class RegressionNet(nn.Module):\n",
    "    def __init__(self):\n",
    "        super(RegressionNet, self).__init__()\n",
    "        self.fc1 = nn.Linear(9, 1024)\n",
    "        self.fc2 = nn.Linear(1024, 512)\n",
    "        self.fc3 = nn.Linear(512,256)\n",
    "        self.fc4 = nn.Linear(256, 64)\n",
    "        self.fc5 = nn.Linear(64, 32)\n",
    "        self.fc6 = nn.Linear(32, 16)\n",
    "        self.fc7 = nn.Linear(16, 1)\n",
    "\n",
    "\n",
    "\n",
    "    def forward(self, x):\n",
    "        x = torch.relu(self.fc1(x))\n",
    "        x = torch.relu(self.fc2(x))\n",
    "        x = torch.relu(self.fc3(x))\n",
    "        x = torch.relu(self.fc4(x))\n",
    "        x = torch.relu(self.fc5(x))\n",
    "        x = torch.relu(self.fc6(x))\n",
    "        x = self.fc7(x)\n",
    "        return x\n"
   ]
  },
  {
   "cell_type": "code",
   "execution_count": 26,
   "metadata": {},
   "outputs": [
    {
     "name": "stdout",
     "output_type": "stream",
     "text": [
      "Epoch: 1, Training Loss: 525139256.2537061, Validation Loss: 1867566285.9812546, RMSE: 188371.33389569612\n",
      "Epoch: 5, Training Loss: 85011070.6549071, Validation Loss: 367185060.63734674, RMSE: 83525.54191449218\n",
      "Epoch: 10, Training Loss: 86206182.02289361, Validation Loss: 364926988.1816871, RMSE: 83268.31795738434\n",
      "Epoch: 15, Training Loss: 84836113.55826609, Validation Loss: 363984316.0778659, RMSE: 83160.69988569993\n",
      "Epoch: 20, Training Loss: 85465964.83242634, Validation Loss: 364587139.0454218, RMSE: 83229.53587436982\n",
      "Epoch: 25, Training Loss: 85523774.78701445, Validation Loss: 365135719.5443403, RMSE: 83292.12850769552\n",
      "Epoch: 30, Training Loss: 85319008.60649277, Validation Loss: 367167133.99279016, RMSE: 83523.50295493487\n",
      "Epoch: 35, Training Loss: 85178347.00694314, Validation Loss: 366661489.5111752, RMSE: 83465.9709145729\n",
      "Epoch: 40, Training Loss: 86224998.6834303, Validation Loss: 364352264.3056957, RMSE: 83202.72244228682\n",
      "Epoch: 45, Training Loss: 84486189.9012948, Validation Loss: 365248328.1672675, RMSE: 83304.97125128897\n",
      "Epoch: 50, Training Loss: 85432144.80165134, Validation Loss: 363779694.7426099, RMSE: 83137.32134312236\n",
      "Epoch: 55, Training Loss: 84689127.59617189, Validation Loss: 365116528.95746213, RMSE: 83289.93966975712\n",
      "Epoch: 60, Training Loss: 84841479.37399137, Validation Loss: 372996293.4909877, RMSE: 84183.90330893885\n",
      "Epoch: 65, Training Loss: 85020596.8669544, Validation Loss: 363663040.3229993, RMSE: 83123.99031649639\n",
      "Epoch: 70, Training Loss: 85039501.3308313, Validation Loss: 363613051.10886806, RMSE: 83118.27699771267\n",
      "Epoch: 75, Training Loss: 84745496.90823793, Validation Loss: 363483219.0569574, RMSE: 83103.4365239019\n",
      "Epoch: 80, Training Loss: 84680300.23193845, Validation Loss: 380422427.1319394, RMSE: 85017.7988159353\n",
      "Epoch: 85, Training Loss: 84790334.35466316, Validation Loss: 363761049.37851477, RMSE: 83135.19073287665\n",
      "Epoch: 90, Training Loss: 84926141.8022143, Validation Loss: 365056547.4376352, RMSE: 83283.09793298438\n",
      "Epoch: 95, Training Loss: 85040755.53387128, Validation Loss: 375277109.7101658, RMSE: 84440.89699010279\n",
      "Epoch: 100, Training Loss: 84797412.20942014, Validation Loss: 363490852.5450613, RMSE: 83104.30914432876\n"
     ]
    }
   ],
   "source": [
    "#Training\n",
    "model = RegressionNet().to(device)\n",
    "a = 0.001\n",
    "epochs = 100\n",
    "lossFN = nn.MSELoss()\n",
    "optimizer = optim.Adam(model.parameters(), lr= a)\n",
    "\n",
    "TL(\n",
    "  n_epochs= epochs,\n",
    "  optimizer= optimizer,\n",
    "  model= model,\n",
    "  loss_fn= lossFN,\n",
    "  training_loader= training_loader,\n",
    "  valid_loader= valid_loader,\n",
    ")"
   ]
  },
  {
   "cell_type": "code",
   "execution_count": 27,
   "metadata": {},
   "outputs": [
    {
     "data": {
      "image/png": "[encoded data removed]",
      "text/plain": [
       "<Figure size 640x480 with 1 Axes>"
      ]
     },
     "metadata": {},
     "output_type": "display_data"
    }
   ],
   "source": [
    "# Plotting training and validation loss\n",
    "plt.plot(train_loss_list, label='Training Loss')\n",
    "plt.plot(val_loss_list, label='Validation Loss')\n",
    "plt.xlabel('Epoch')\n",
    "plt.ylabel('Loss')\n",
    "plt.title('Training and Validation Loss')\n",
    "plt.legend()\n",
    "plt.show()\n",
    "\n",
    "#Overfitting is about the same as 2B but the model converges much faster"
   ]
  }
 ],
 "metadata": {
  "kernelspec": {
   "display_name": "Python 3",
   "language": "python",
   "name": "python3"
  },
  "language_info": {
   "codemirror_mode": {
    "name": "ipython",
    "version": 3
   },
   "file_extension": ".py",
   "mimetype": "text/x-python",
   "name": "python",
   "nbconvert_exporter": "python",
   "pygments_lexer": "ipython3",
   "version": "3.11.7"
  }
 },
 "nbformat": 4,
 "nbformat_minor": 2
}
