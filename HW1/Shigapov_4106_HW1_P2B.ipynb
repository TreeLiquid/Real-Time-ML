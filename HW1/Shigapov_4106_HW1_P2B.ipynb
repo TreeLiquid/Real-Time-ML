{
 "cells": [
  {
   "cell_type": "code",
   "execution_count": 13,
   "metadata": {},
   "outputs": [],
   "source": [
    "#Libraries\n",
    "import numpy as np\n",
    "import pandas as pd\n",
    "import os\n",
    "import torch\n",
    "import torch.nn as nn\n",
    "import torch.optim as optim\n",
    "from torch.utils.data import TensorDataset, DataLoader\n",
    "import matplotlib.pyplot as plt\n",
    "from sklearn.preprocessing import StandardScaler\n",
    "from sklearn.model_selection import train_test_split\n",
    "from sklearn.metrics import precision_score, recall_score, f1_score"
   ]
  },
  {
   "cell_type": "code",
   "execution_count": 14,
   "metadata": {},
   "outputs": [
    {
     "name": "stdout",
     "output_type": "stream",
     "text": [
      "Using GPU: NVIDIA GeForce RTX 3060\n"
     ]
    }
   ],
   "source": [
    "#GPU Checking\n",
    "if torch.cuda.is_available():\n",
    "    device = torch.device(\"cuda\")\n",
    "    print(f\"Using GPU: {torch.cuda.get_device_name(0)}\")\n",
    "else:\n",
    "    device = torch.device(\"cpu\")\n",
    "    print(\"GPU is not available. Using CPU.\")"
   ]
  },
  {
   "cell_type": "code",
   "execution_count": 15,
   "metadata": {},
   "outputs": [],
   "source": [
    "#Grabbing Datasets\n",
    "hd_train = pd.read_csv('./datasets/house-train.csv')\n",
    "\n",
    "#Grab Feature Columns\n",
    "feature_cols = ['OverallQual', 'GrLivArea', 'GarageArea', 'TotalBsmtSF',\n",
    "            'FullBath', 'YearBuilt', 'YearRemodAdd', 'Fireplaces',\n",
    "            'LotFrontage','WoodDeckSF','OpenPorchSF',\n",
    "            'ExterQual','Neighborhood','MSZoning',\n",
    "            'Alley','LotShape','LandContour','Condition1','HouseStyle',\n",
    "            'MasVnrType','SaleCondition',]\n",
    "\n",
    "encode_cols = ['Neighborhood','MSZoning','Alley','LotShape','LandContour','Condition1','HouseStyle','MasVnrType','SaleCondition']\n",
    "\n",
    "hd = pd.get_dummies(hd_train, columns= encode_cols)\n",
    "hd = hd_train.replace({True: 1, False: 0})\n",
    "\n",
    "\n",
    "\n",
    "features = hd[encode_cols].copy()\n",
    "target = hd_train['SalePrice'].values.reshape(-1,1)\n",
    "\n",
    "#Convert to floats and handle NaN values + scaling\n",
    "features = features.apply(pd.to_numeric, errors='coerce').fillna(0)\n",
    "features = StandardScaler().fit_transform(features)"
   ]
  },
  {
   "cell_type": "code",
   "execution_count": 16,
   "metadata": {},
   "outputs": [],
   "source": [
    "#Train-Test Split\n",
    "x_train, x_val, y_train, y_val = train_test_split(features, target, test_size= 0.2, random_state= 0)\n",
    "\n",
    "#training tensors\n",
    "x_trainT = torch.tensor(x_train, dtype=torch.float32)\n",
    "y_trainT = torch.tensor(y_train, dtype=torch.float32).view(-1, 1)\n",
    "\n",
    "#Validation Tensors\n",
    "x_valT = torch.tensor(x_val, dtype=torch.float32)\n",
    "y_valT = torch.tensor(y_val, dtype=torch.float32).view(-1, 1)"
   ]
  },
  {
   "cell_type": "code",
   "execution_count": 17,
   "metadata": {},
   "outputs": [],
   "source": [
    "#Data Loaders\n",
    "train_dataset = TensorDataset(x_trainT, y_trainT)\n",
    "valid_dataset = TensorDataset(x_valT, y_valT)\n",
    "\n",
    "training_loader = DataLoader(dataset= train_dataset, batch_size= 16, shuffle= True)\n",
    "valid_loader = DataLoader(dataset= valid_dataset, batch_size= 16, shuffle= False)\n"
   ]
  },
  {
   "cell_type": "code",
   "execution_count": 18,
   "metadata": {},
   "outputs": [],
   "source": [
    "#Training Loop + Empty Arrays for storing Training and Validation Results\n",
    "train_loss_list = []\n",
    "val_loss_list = []\n",
    "\n",
    "val_accuracy_list = []\n",
    "all_predicted = []\n",
    "all_labels = []\n",
    "\n",
    "#Regression TL\n",
    "def TL(n_epochs, optimizer, model, loss_fn, training_loader, valid_loader):\n",
    "  for epoch in range(1, n_epochs + 1):\n",
    "    loss_train = 0.0\n",
    "    model.train()\n",
    "    for inputs, targets in training_loader:\n",
    "      inputs = inputs.to(device)\n",
    "      targets = targets.to(device)\n",
    "      optimizer.zero_grad()\n",
    "      outputs = model(inputs)\n",
    "      loss = loss_fn(outputs, targets)\n",
    "      loss.backward()\n",
    "      optimizer.step()\n",
    "      loss_train += loss.item() * inputs.size(0)\n",
    "\n",
    "    loss_train /= len(training_loader.dataset)\n",
    "    train_loss_list.append(loss_train) \n",
    "\n",
    "    \n",
    "    #Validation Loop\n",
    "    model.eval()\n",
    "    total = 0.0\n",
    "    valid_loss = 0.0\n",
    "    \n",
    "    with torch.no_grad():\n",
    "      for inputs, labels in valid_loader:\n",
    "          inputs = inputs.to(device)\n",
    "          labels = labels.to(device)\n",
    "          outputs = model(inputs)\n",
    "          loss = loss_fn(outputs, labels)\n",
    "          valid_loss += loss.item() * inputs.size(0)\n",
    "          total += ((outputs - labels) ** 2).sum().item()\n",
    "          \n",
    "\n",
    "          \n",
    "    valid_loss /= len(valid_loader.dataset)\n",
    "    val_loss_list.append(valid_loss)\n",
    "    rmse = np.sqrt(total / len(valid_loader.dataset))\n",
    "\n",
    "    if epoch == 1 or epoch % 5 == 0: \n",
    "      print('Epoch: {}, Training Loss: {}, Validation Loss: {}, RMSE: {}'.format(epoch, loss_train / len(training_loader), valid_loss / len(valid_loader), rmse))\n",
    "  "
   ]
  },
  {
   "cell_type": "markdown",
   "metadata": {},
   "source": [
    "Problem 2B - One-Hot encoding"
   ]
  },
  {
   "cell_type": "code",
   "execution_count": 19,
   "metadata": {},
   "outputs": [],
   "source": [
    "#Model\n",
    "class RegressionNet(nn.Module):\n",
    "    def __init__(self):\n",
    "        super(RegressionNet, self).__init__()\n",
    "        self.fc1 = nn.Linear(9, 256)  # 6 input features\n",
    "        self.fc2 = nn.Linear(256, 64)\n",
    "        self.fc3 = nn.Linear(64,32)\n",
    "        self.fc4 = nn.Linear(32, 1)  # Output layer with 2 units for width and height\n",
    "\n",
    "    def forward(self, x):\n",
    "        x = torch.relu(self.fc1(x))\n",
    "        x = torch.relu(self.fc2(x))\n",
    "        x = torch.relu(self.fc3(x))\n",
    "        x = self.fc4(x)\n",
    "        return x\n"
   ]
  },
  {
   "cell_type": "code",
   "execution_count": 20,
   "metadata": {},
   "outputs": [
    {
     "name": "stdout",
     "output_type": "stream",
     "text": [
      "Epoch: 1, Training Loss: 532156450.97241503, Validation Loss: 2094464616.4671953, RMSE: 199486.40984507368\n",
      "Epoch: 5, Training Loss: 479871612.4210921, Validation Loss: 1788571987.6106706, RMSE: 184344.42699632322\n",
      "Epoch: 10, Training Loss: 97171607.95946707, Validation Loss: 380784548.4527758, RMSE: 85058.25310105269\n",
      "Epoch: 15, Training Loss: 84393275.35222368, Validation Loss: 363473662.70800287, RMSE: 83102.34407916575\n",
      "Epoch: 20, Training Loss: 84487759.00018765, Validation Loss: 363511343.9884643, RMSE: 83106.6515736305\n",
      "Epoch: 25, Training Loss: 84398320.93976355, Validation Loss: 363542612.90266764, RMSE: 83110.22587594553\n",
      "Epoch: 30, Training Loss: 84402493.89829236, Validation Loss: 363469368.8478731, RMSE: 83101.85321705882\n",
      "Epoch: 35, Training Loss: 84393297.33008069, Validation Loss: 363465778.57245857, RMSE: 83101.4427845673\n",
      "Epoch: 40, Training Loss: 84393366.45824733, Validation Loss: 363480032.9920692, RMSE: 83103.07230692085\n",
      "Epoch: 45, Training Loss: 84446709.19121787, Validation Loss: 363482337.9149243, RMSE: 83103.33579576432\n",
      "Epoch: 50, Training Loss: 84455452.94351661, Validation Loss: 363522868.2335977, RMSE: 83107.96891055848\n",
      "Epoch: 55, Training Loss: 84516219.65246764, Validation Loss: 363506314.4282625, RMSE: 83106.07663785474\n",
      "Epoch: 60, Training Loss: 84430009.69487709, Validation Loss: 363465930.2898342, RMSE: 83101.46012860935\n",
      "Epoch: 65, Training Loss: 84469967.43253893, Validation Loss: 363492715.2357606, RMSE: 83104.52207599446\n",
      "Epoch: 70, Training Loss: 84428496.92174892, Validation Loss: 363467509.84859407, RMSE: 83101.64070054988\n",
      "Epoch: 75, Training Loss: 84494594.01763932, Validation Loss: 363654572.5739005, RMSE: 83123.02255635384\n",
      "Epoch: 80, Training Loss: 84461660.13886283, Validation Loss: 363501539.9452055, RMSE: 83105.53085660968\n",
      "Epoch: 85, Training Loss: 84417950.50478514, Validation Loss: 363492612.61427546, RMSE: 83104.51034493395\n",
      "Epoch: 90, Training Loss: 84383838.03640458, Validation Loss: 363480871.3136265, RMSE: 83103.16814032366\n",
      "Epoch: 95, Training Loss: 84377377.14693189, Validation Loss: 363582076.40086514, RMSE: 83114.73666935628\n",
      "Epoch: 100, Training Loss: 84451058.42897354, Validation Loss: 363684980.27974045, RMSE: 83126.49773276309\n"
     ]
    }
   ],
   "source": [
    "#Training\n",
    "model = RegressionNet().to(device)\n",
    "a = 0.001\n",
    "epochs = 100\n",
    "lossFN = nn.MSELoss()\n",
    "optimizer = optim.Adam(model.parameters(), lr= a)\n",
    "\n",
    "TL(\n",
    "  n_epochs= epochs,\n",
    "  optimizer= optimizer,\n",
    "  model= model,\n",
    "  loss_fn= lossFN,\n",
    "  training_loader= training_loader,\n",
    "  valid_loader= valid_loader,\n",
    ")"
   ]
  },
  {
   "cell_type": "code",
   "execution_count": 21,
   "metadata": {},
   "outputs": [
    {
     "data": {
      "image/png": "[encoded data removed]",
      "text/plain": [
       "<Figure size 640x480 with 1 Axes>"
      ]
     },
     "metadata": {},
     "output_type": "display_data"
    }
   ],
   "source": [
    "# Plotting training and validation loss\n",
    "plt.plot(train_loss_list, label='Training Loss')\n",
    "plt.plot(val_loss_list, label='Validation Loss')\n",
    "plt.xlabel('Epoch')\n",
    "plt.ylabel('Loss')\n",
    "plt.title('Training and Validation Loss')\n",
    "plt.legend()\n",
    "plt.show()\n",
    "\n",
    "\n",
    "# I tweaked the model and that fixed the overfitting, so it did get better compared to 2A\n",
    "# instead of worse as I stated in the report!"
   ]
  }
 ],
 "metadata": {
  "kernelspec": {
   "display_name": "Python 3",
   "language": "python",
   "name": "python3"
  },
  "language_info": {
   "codemirror_mode": {
    "name": "ipython",
    "version": 3
   },
   "file_extension": ".py",
   "mimetype": "text/x-python",
   "name": "python",
   "nbconvert_exporter": "python",
   "pygments_lexer": "ipython3",
   "version": "3.11.7"
  }
 },
 "nbformat": 4,
 "nbformat_minor": 2
}
